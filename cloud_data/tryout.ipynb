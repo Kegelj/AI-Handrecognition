{
 "cells": [
  {
   "cell_type": "code",
   "id": "initial_id",
   "metadata": {
    "collapsed": true,
    "ExecuteTime": {
     "end_time": "2025-05-21T07:26:58.948031Z",
     "start_time": "2025-05-21T07:26:58.942554Z"
    }
   },
   "source": [
    "import cloud_data.database_connector\n",
    "\n",
    "list1= [\"Select asdasl\"]\n",
    "list2= \"Select dasahdka\"\n",
    "list3= [\"asdasda\",\"asdasda\"]\n",
    "\n",
    "\n",
    "print(type(list1))\n",
    "print(type(list2))\n",
    "print(type(list3))"
   ],
   "outputs": [
    {
     "name": "stdout",
     "output_type": "stream",
     "text": [
      "<class 'list'>\n",
      "<class 'str'>\n",
      "<class 'list'>\n"
     ]
    }
   ],
   "execution_count": 2
  },
  {
   "metadata": {
    "ExecuteTime": {
     "end_time": "2025-05-21T08:36:55.645865Z",
     "start_time": "2025-05-21T08:36:55.559147Z"
    }
   },
   "cell_type": "code",
   "source": "import database_connector as dc",
   "id": "7196db9c8e2e1151",
   "outputs": [],
   "execution_count": 3
  },
  {
   "metadata": {
    "ExecuteTime": {
     "end_time": "2025-05-21T08:50:31.111198Z",
     "start_time": "2025-05-21T08:50:29.050510Z"
    }
   },
   "cell_type": "code",
   "source": [
    "result = dc.query(\"SELECT count(column_name) as column_count FROM information_schema.columns WHERE table_name = 'test_table' and column_name != 'id'\")[0][0]\n",
    "print(f\"--- {result}\")"
   ],
   "id": "c171aed5e2359a66",
   "outputs": [
    {
     "name": "stdout",
     "output_type": "stream",
     "text": [
      "Database Connection to postgres successfully established\n",
      "--- 2\n"
     ]
    }
   ],
   "execution_count": 9
  },
  {
   "metadata": {
    "ExecuteTime": {
     "end_time": "2025-05-21T09:26:43.156373Z",
     "start_time": "2025-05-21T09:26:41.918327Z"
    }
   },
   "cell_type": "code",
   "source": [
    "result = dc.query(\"SELECT column_name as column_count FROM information_schema.columns WHERE table_name = 'test_table' and column_name != 'id'\")\n",
    "print(f\">\\n {result}\")\n",
    "\n",
    "list = tuple([column[0] for column in result])\n",
    "print(list)\n",
    "\n",
    "print(f\"INSERT INTO table {list}\")"
   ],
   "id": "495b9be1fe9760ed",
   "outputs": [
    {
     "name": "stdout",
     "output_type": "stream",
     "text": [
      "Database Connection to postgres successfully established\n",
      ">\n",
      " [('name',), ('bezeichnung',)]\n",
      "('name', 'bezeichnung')\n",
      "INSERT INTO table ('name', 'bezeichnung')\n"
     ]
    }
   ],
   "execution_count": 27
  },
  {
   "metadata": {
    "ExecuteTime": {
     "end_time": "2025-05-21T09:09:00.688371Z",
     "start_time": "2025-05-21T09:09:00.681877Z"
    }
   },
   "cell_type": "code",
   "source": [
    "return_value = [('name',), ('bezeichnung',)]\n",
    "count = len(return_value)\n",
    "print(count)\n",
    "\n",
    "new_list = []\n",
    "for i in return_value:\n",
    "    new_list.append(i[0])\n",
    "\n",
    "print(new_list)\n",
    "\n",
    "new_list2 = [column[0] for column in return_value]\n",
    "print(new_list2)\n",
    "\n",
    "filtered = len(return_value)\n",
    "print(f\"({('%s,'*(filtered-1) + '%s')})\")\n"
   ],
   "id": "ce18388b8f361d15",
   "outputs": [
    {
     "name": "stdout",
     "output_type": "stream",
     "text": [
      "2\n",
      "['name', 'bezeichnung']\n",
      "['name', 'bezeichnung']\n",
      "(%s,%s)\n"
     ]
    }
   ],
   "execution_count": 21
  },
  {
   "metadata": {
    "ExecuteTime": {
     "end_time": "2025-05-21T12:32:25.184507Z",
     "start_time": "2025-05-21T12:32:25.177738Z"
    }
   },
   "cell_type": "code",
   "source": [
    "values1 = None\n",
    "values = ()\n",
    "\n",
    "def ubs():\n",
    "    if not values or len(values) < 1:\n",
    "        return (\"Please provide a 'value' when using this function\")\n",
    "\n",
    "ubs()"
   ],
   "id": "44e5729c1fcc6d64",
   "outputs": [
    {
     "data": {
      "text/plain": [
       "\"Please provide a 'value' when using this function\""
      ]
     },
     "execution_count": 16,
     "metadata": {},
     "output_type": "execute_result"
    }
   ],
   "execution_count": 16
  },
  {
   "metadata": {
    "ExecuteTime": {
     "end_time": "2025-05-21T13:19:35.881360Z",
     "start_time": "2025-05-21T13:19:35.874673Z"
    }
   },
   "cell_type": "code",
   "source": [
    "def generate_create_statement(table: str, values: tuple[tuple[str, str], ...]) -> str:\n",
    "    columns = []\n",
    "    for column_name, column_type in values:\n",
    "        columns.append(f\"{column_name} {column_type}\")\n",
    "\n",
    "    columns_sql = \",\\n\\t\".join(columns)\n",
    "    statement = f\"CREATE TABLE {table} (\\n\\t{columns_sql}\\n);\"\n",
    "    return statement\n",
    "\n",
    "\n",
    "table = \"ernst\"\n",
    "values = (\n",
    "    (\"id\", \"SERIAL PRIMARY KEY\"),\n",
    "    (\"name\", \"varchar(255)\"),\n",
    "    (\"type\", \"varchar(100)\")\n",
    ")\n",
    "\n",
    "print(generate_create_statement(table,values))"
   ],
   "id": "475ff797977891",
   "outputs": [
    {
     "name": "stdout",
     "output_type": "stream",
     "text": [
      "CREATE TABLE ernst (\n",
      "\tid SERIAL PRIMARY KEY,\n",
      "\tname varchar(255),\n",
      "\ttype varchar(100)\n",
      ");\n"
     ]
    }
   ],
   "execution_count": 19
  },
  {
   "metadata": {},
   "cell_type": "markdown",
   "source": [
    "## Database tests\n",
    "------------------------"
   ],
   "id": "662c250b10bc09b"
  },
  {
   "metadata": {
    "ExecuteTime": {
     "end_time": "2025-05-26T08:25:07.004771Z",
     "start_time": "2025-05-26T08:25:06.933739Z"
    }
   },
   "cell_type": "code",
   "source": "import database_connector as dc",
   "id": "81d83912119e9155",
   "outputs": [],
   "execution_count": 1
  },
  {
   "metadata": {},
   "cell_type": "markdown",
   "source": "#### Query",
   "id": "92aaa8564cf523d"
  },
  {
   "metadata": {
    "ExecuteTime": {
     "end_time": "2025-05-26T08:25:14.669808Z",
     "start_time": "2025-05-26T08:25:14.244028Z"
    }
   },
   "cell_type": "code",
   "source": [
    "statement = \"SELECT * FROM test\"\n",
    "print(dc.query(statement))"
   ],
   "id": "fdba65c705b5e0ff",
   "outputs": [
    {
     "name": "stdout",
     "output_type": "stream",
     "text": [
      "Database Connection to ai-project successfully established\n",
      "[]\n"
     ]
    }
   ],
   "execution_count": 2
  },
  {
   "metadata": {},
   "cell_type": "markdown",
   "source": "#### Insert",
   "id": "60ef1549a57cd69b"
  },
  {
   "metadata": {
    "ExecuteTime": {
     "end_time": "2025-05-26T08:25:19.946479Z",
     "start_time": "2025-05-26T08:25:18.634437Z"
    }
   },
   "cell_type": "code",
   "source": [
    "table = \"test\"\n",
    "# Table test hat die Columns \"name\", \"number\" ist alphabetisch\n",
    "values = (\"Peter\",17)\n",
    "\n",
    "print(dc.insert(table=table,values=values))"
   ],
   "id": "bf2f4fe8af8ba37d",
   "outputs": [
    {
     "name": "stdout",
     "output_type": "stream",
     "text": [
      "Database Connection to ai-project successfully established\n",
      "Database Connection to ai-project successfully established\n"
     ]
    },
    {
     "ename": "SyntaxError",
     "evalue": "syntax error at or near \"'name'\"\nLINE 1: INSERT INTO test ('name', 'number') VALUES ('Peter',17)\n                          ^\n",
     "output_type": "error",
     "traceback": [
      "\u001B[1;31m---------------------------------------------------------------------------\u001B[0m",
      "\u001B[1;31mSyntaxError\u001B[0m                               Traceback (most recent call last)",
      "Cell \u001B[1;32mIn[3], line 5\u001B[0m\n\u001B[0;32m      2\u001B[0m \u001B[38;5;66;03m# Table test hat die Columns \"name\", \"number\" ist alphabetisch\u001B[39;00m\n\u001B[0;32m      3\u001B[0m values \u001B[38;5;241m=\u001B[39m (\u001B[38;5;124m\"\u001B[39m\u001B[38;5;124mPeter\u001B[39m\u001B[38;5;124m\"\u001B[39m,\u001B[38;5;241m17\u001B[39m)\n\u001B[1;32m----> 5\u001B[0m \u001B[38;5;28mprint\u001B[39m(dc\u001B[38;5;241m.\u001B[39minsert(table\u001B[38;5;241m=\u001B[39mtable,values\u001B[38;5;241m=\u001B[39mvalues))\n",
      "File \u001B[1;32m~\\Dropbox\\Codersbay\\Repositories\\AI-projekt\\AI-Handrecognition\\cloud_data\\database_connector.py:72\u001B[0m, in \u001B[0;36minsert\u001B[1;34m(table, values, slist, type)\u001B[0m\n\u001B[0;32m     69\u001B[0m \u001B[38;5;28;01mwith\u001B[39;00m connection\u001B[38;5;241m.\u001B[39mcursor() \u001B[38;5;28;01mas\u001B[39;00m cursor:\n\u001B[0;32m     71\u001B[0m     \u001B[38;5;28;01mif\u001B[39;00m \u001B[38;5;129;01mnot\u001B[39;00m slist \u001B[38;5;129;01mand\u001B[39;00m values:\n\u001B[1;32m---> 72\u001B[0m         cursor\u001B[38;5;241m.\u001B[39mexecute(statement,values)\n\u001B[0;32m     73\u001B[0m         \u001B[38;5;28;01mreturn\u001B[39;00m cursor\u001B[38;5;241m.\u001B[39mstatusmessage\n\u001B[0;32m     75\u001B[0m     \u001B[38;5;28;01mif\u001B[39;00m \u001B[38;5;28mtype\u001B[39m(slist) \u001B[38;5;241m==\u001B[39m \u001B[38;5;28mlist\u001B[39m \u001B[38;5;129;01mand\u001B[39;00m \u001B[38;5;28mlen\u001B[39m(slist) \u001B[38;5;241m>\u001B[39m \u001B[38;5;241m0\u001B[39m:\n",
      "\u001B[1;31mSyntaxError\u001B[0m: syntax error at or near \"'name'\"\nLINE 1: INSERT INTO test ('name', 'number') VALUES ('Peter',17)\n                          ^\n"
     ]
    }
   ],
   "execution_count": 3
  },
  {
   "metadata": {},
   "cell_type": "code",
   "outputs": [],
   "execution_count": null,
   "source": "",
   "id": "ec17f51fea01cc3d"
  }
 ],
 "metadata": {
  "kernelspec": {
   "display_name": "Python 3",
   "language": "python",
   "name": "python3"
  },
  "language_info": {
   "codemirror_mode": {
    "name": "ipython",
    "version": 2
   },
   "file_extension": ".py",
   "mimetype": "text/x-python",
   "name": "python",
   "nbconvert_exporter": "python",
   "pygments_lexer": "ipython2",
   "version": "2.7.6"
  }
 },
 "nbformat": 4,
 "nbformat_minor": 5
}
