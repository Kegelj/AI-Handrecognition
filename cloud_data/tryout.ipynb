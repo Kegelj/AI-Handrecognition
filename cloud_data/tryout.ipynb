{
 "cells": [
  {
   "cell_type": "code",
   "id": "initial_id",
   "metadata": {
    "collapsed": true
   },
   "source": [
    "import cloud_data.database_connector\n",
    "\n",
    "list1= [\"Select asdasl\"]\n",
    "list2= \"Select dasahdka\"\n",
    "list3= [\"asdasda\",\"asdasda\"]\n",
    "\n",
    "\n",
    "print(type(list1))\n",
    "print(type(list2))\n",
    "print(type(list3))"
   ],
   "outputs": [],
   "execution_count": null
  },
  {
   "metadata": {},
   "cell_type": "code",
   "source": "import database_connector as dc",
   "id": "7196db9c8e2e1151",
   "outputs": [],
   "execution_count": null
  },
  {
   "metadata": {},
   "cell_type": "code",
   "source": [
    "result = dc.query(\"SELECT count(column_name) as column_count FROM information_schema.columns WHERE table_name = 'test_table' and column_name != 'id'\")[0][0]\n",
    "print(f\"--- {result}\")"
   ],
   "id": "c171aed5e2359a66",
   "outputs": [],
   "execution_count": null
  },
  {
   "metadata": {},
   "cell_type": "code",
   "source": [
    "result = dc.query(\"SELECT column_name as column_count FROM information_schema.columns WHERE table_name = 'test_table' and column_name != 'id'\")\n",
    "print(f\">\\n {result}\")\n",
    "\n",
    "list = tuple([column[0] for column in result])\n",
    "print(list)\n",
    "\n",
    "print(f\"INSERT INTO table {list}\")"
   ],
   "id": "495b9be1fe9760ed",
   "outputs": [],
   "execution_count": null
  },
  {
   "metadata": {},
   "cell_type": "code",
   "source": [
    "return_value = [('name',), ('bezeichnung',)]\n",
    "count = len(return_value)\n",
    "print(count)\n",
    "\n",
    "new_list = []\n",
    "for i in return_value:\n",
    "    new_list.append(i[0])\n",
    "\n",
    "print(new_list)\n",
    "\n",
    "new_list2 = [column[0] for column in return_value]\n",
    "print(new_list2)\n",
    "\n",
    "filtered = len(return_value)\n",
    "print(f\"({('%s,'*(filtered-1) + '%s')})\")\n"
   ],
   "id": "ce18388b8f361d15",
   "outputs": [],
   "execution_count": null
  },
  {
   "metadata": {},
   "cell_type": "code",
   "source": [
    "values1 = None\n",
    "values = ()\n",
    "\n",
    "def ubs():\n",
    "    if not values or len(values) < 1:\n",
    "        return (\"Please provide a 'value' when using this function\")\n",
    "\n",
    "ubs()"
   ],
   "id": "44e5729c1fcc6d64",
   "outputs": [],
   "execution_count": null
  },
  {
   "metadata": {},
   "cell_type": "code",
   "source": [
    "def generate_create_statement(table: str, values: tuple[tuple[str, str], ...]) -> str:\n",
    "    columns = []\n",
    "    for column_name, column_type in values:\n",
    "        columns.append(f\"{column_name} {column_type}\")\n",
    "\n",
    "    columns_sql = \",\\n\\t\".join(columns)\n",
    "    statement = f\"CREATE TABLE {table} (\\n\\t{columns_sql}\\n);\"\n",
    "    return statement\n",
    "\n",
    "\n",
    "table = \"ernst\"\n",
    "values = (\n",
    "    (\"id\", \"SERIAL PRIMARY KEY\"),\n",
    "    (\"name\", \"varchar(255)\"),\n",
    "    (\"type\", \"varchar(100)\")\n",
    ")\n",
    "\n",
    "print(generate_create_statement(table,values))"
   ],
   "id": "475ff797977891",
   "outputs": [],
   "execution_count": null
  },
  {
   "metadata": {},
   "cell_type": "markdown",
   "source": [
    "## Database tests\n",
    "------------------------"
   ],
   "id": "662c250b10bc09b"
  },
  {
   "metadata": {},
   "cell_type": "code",
   "source": "import database_connector as dc",
   "id": "81d83912119e9155",
   "outputs": [],
   "execution_count": null
  },
  {
   "metadata": {},
   "cell_type": "markdown",
   "source": "#### Query",
   "id": "92aaa8564cf523d"
  },
  {
   "metadata": {},
   "cell_type": "code",
   "source": [
    "statement = \"SELECT * FROM test\"\n",
    "print(dc.query(statement))"
   ],
   "id": "fdba65c705b5e0ff",
   "outputs": [],
   "execution_count": null
  },
  {
   "metadata": {},
   "cell_type": "markdown",
   "source": "#### Insert",
   "id": "60ef1549a57cd69b"
  },
  {
   "metadata": {},
   "cell_type": "code",
   "source": [
    "#Test mit .execute()\n",
    "\n",
    "table = \"test\"\n",
    "# Table test hat die Columns \"name\", \"number\" ist alphabetisch\n",
    "values = ('Ivan',22)\n",
    "\n",
    "print(dc.insert(table=table,values=values))"
   ],
   "id": "bf2f4fe8af8ba37d",
   "outputs": [],
   "execution_count": null
  },
  {
   "metadata": {},
   "cell_type": "code",
   "source": [
    "#Test mit .executemany()\n",
    "\n",
    "table = \"test\"\n",
    "# Table test hat die Columns \"name\", \"number\" ist alphabetisch\n",
    "slist = [('Ivan',30),('Thomas',34),('Stefan',40)]\n",
    "\n",
    "print(dc.insert(table=table,slist=slist))"
   ],
   "id": "ec17f51fea01cc3d",
   "outputs": [],
   "execution_count": null
  },
  {
   "metadata": {},
   "cell_type": "markdown",
   "source": [
    "## Google Cloud Storage (Bucket)\n",
    "--------------"
   ],
   "id": "9aee684dd0d3331"
  },
  {
   "metadata": {},
   "cell_type": "markdown",
   "source": "### Initialize cloud_connector",
   "id": "2d6fe04e1866d798"
  },
  {
   "metadata": {},
   "cell_type": "code",
   "source": "import cloud_connector as cc",
   "id": "87658a0cee831e33",
   "outputs": [],
   "execution_count": null
  },
  {
   "metadata": {},
   "cell_type": "markdown",
   "source": "### Upload",
   "id": "5ee5203d93706306"
  },
  {
   "metadata": {},
   "cell_type": "code",
   "source": [
    "# Full Filepath with filename\n",
    "cc.upload_to_bucket(\"../airflow/test25.txt\")"
   ],
   "id": "fc7dd5e8d629a497",
   "outputs": [],
   "execution_count": null
  },
  {
   "metadata": {},
   "cell_type": "markdown",
   "source": "### Download",
   "id": "f80db17a11fcf23f"
  },
  {
   "metadata": {},
   "cell_type": "code",
   "source": [
    "# Filename in Bucket and Filelocation\n",
    "cc.download_from_bucket(\"test25.txt\",\"test25.txt\")"
   ],
   "id": "e09a065e26da61d9",
   "outputs": [],
   "execution_count": null
  },
  {
   "metadata": {},
   "cell_type": "code",
   "source": "",
   "id": "121e22e60912cf7e",
   "outputs": [],
   "execution_count": null
  }
 ],
 "metadata": {
  "kernelspec": {
   "display_name": "Python 3",
   "language": "python",
   "name": "python3"
  },
  "language_info": {
   "codemirror_mode": {
    "name": "ipython",
    "version": 2
   },
   "file_extension": ".py",
   "mimetype": "text/x-python",
   "name": "python",
   "nbconvert_exporter": "python",
   "pygments_lexer": "ipython2",
   "version": "2.7.6"
  }
 },
 "nbformat": 4,
 "nbformat_minor": 5
}
