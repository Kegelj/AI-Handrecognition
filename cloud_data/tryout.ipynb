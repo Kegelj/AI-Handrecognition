{
 "cells": [
  {
   "metadata": {},
   "cell_type": "markdown",
   "source": "## Basic tests",
   "id": "1f30b0a324a9a2a"
  },
  {
   "metadata": {
    "ExecuteTime": {
     "end_time": "2025-06-10T13:25:31.472820Z",
     "start_time": "2025-06-10T13:25:31.466884Z"
    }
   },
   "cell_type": "code",
   "source": [
    "\n",
    "from ruamel.yaml import StringIO\n",
    "from six import StringIO\n",
    "\n",
    "list1= [\"Select asdasl\"]\n",
    "list2= \"Select dasahdka\"\n",
    "list3= [\"asdasda\",\"asdasda\"]\n",
    "\n",
    "\n",
    "print(type(list1))\n",
    "print(type(list2))\n",
    "print(type(list3))"
   ],
   "id": "5616f06e4b6c250d",
   "outputs": [
    {
     "name": "stdout",
     "output_type": "stream",
     "text": [
      "<class 'list'>\n",
      "<class 'str'>\n",
      "<class 'list'>\n"
     ]
    }
   ],
   "execution_count": 5
  },
  {
   "metadata": {
    "ExecuteTime": {
     "end_time": "2025-06-10T13:25:31.513011Z",
     "start_time": "2025-06-10T13:25:31.509637Z"
    }
   },
   "cell_type": "code",
   "source": "",
   "id": "16c8b17564e9a77b",
   "outputs": [],
   "execution_count": null
  },
  {
   "metadata": {
    "ExecuteTime": {
     "end_time": "2025-06-10T13:25:31.839528Z",
     "start_time": "2025-06-10T13:25:31.525982Z"
    }
   },
   "cell_type": "code",
   "source": [
    "result = dc.query(\"SELECT count(column_name) as column_count FROM information_schema.columns WHERE table_name = 'test_table' and column_name != 'id'\")[0][0]\n",
    "print(f\"--- {result}\")"
   ],
   "id": "798981d7a3cb4fa6",
   "outputs": [
    {
     "name": "stdout",
     "output_type": "stream",
     "text": [
      "--- 0\n"
     ]
    }
   ],
   "execution_count": 6
  },
  {
   "metadata": {
    "ExecuteTime": {
     "end_time": "2025-06-10T13:25:32.085112Z",
     "start_time": "2025-06-10T13:25:31.850603Z"
    }
   },
   "cell_type": "code",
   "source": [
    "result = dc.query(\"SELECT column_name as column_count FROM information_schema.columns WHERE table_name = 'test_table' and column_name != 'id'\")\n",
    "print(f\">\\n {result}\")\n",
    "\n",
    "list = tuple([column[0] for column in result])\n",
    "print(list)\n",
    "\n",
    "print(f\"INSERT INTO table {list}\")"
   ],
   "id": "495b9be1fe9760ed",
   "outputs": [
    {
     "name": "stdout",
     "output_type": "stream",
     "text": [
      ">\n",
      " []\n",
      "()\n",
      "INSERT INTO table ()\n"
     ]
    }
   ],
   "execution_count": 7
  },
  {
   "metadata": {
    "ExecuteTime": {
     "end_time": "2025-06-10T13:25:32.101562Z",
     "start_time": "2025-06-10T13:25:32.095505Z"
    }
   },
   "cell_type": "code",
   "source": [
    "return_value = [('name',), ('bezeichnung',)]\n",
    "count = len(return_value)\n",
    "print(count)\n",
    "\n",
    "new_list = []\n",
    "for i in return_value:\n",
    "    new_list.append(i[0])\n",
    "\n",
    "print(new_list)\n",
    "\n",
    "new_list2 = [column[0] for column in return_value]\n",
    "print(new_list2)\n",
    "\n",
    "filtered = len(return_value)\n",
    "print(f\"({('%s,'*(filtered-1) + '%s')})\")\n"
   ],
   "id": "ce18388b8f361d15",
   "outputs": [
    {
     "name": "stdout",
     "output_type": "stream",
     "text": [
      "2\n",
      "['name', 'bezeichnung']\n",
      "['name', 'bezeichnung']\n",
      "(%s,%s)\n"
     ]
    }
   ],
   "execution_count": 8
  },
  {
   "metadata": {
    "ExecuteTime": {
     "end_time": "2025-06-10T13:25:32.133901Z",
     "start_time": "2025-06-10T13:25:32.122726Z"
    }
   },
   "cell_type": "code",
   "source": [
    "values1 = None\n",
    "values = ()\n",
    "\n",
    "def ubs():\n",
    "    if not values or len(values) < 1:\n",
    "        return (\"Please provide a 'value' when using this function\")\n",
    "\n",
    "ubs()"
   ],
   "id": "44e5729c1fcc6d64",
   "outputs": [
    {
     "data": {
      "text/plain": [
       "\"Please provide a 'value' when using this function\""
      ]
     },
     "execution_count": 9,
     "metadata": {},
     "output_type": "execute_result"
    }
   ],
   "execution_count": 9
  },
  {
   "metadata": {
    "ExecuteTime": {
     "end_time": "2025-06-10T13:25:32.152553Z",
     "start_time": "2025-06-10T13:25:32.146404Z"
    }
   },
   "cell_type": "code",
   "source": [
    "def generate_create_statement(table: str, values: tuple[tuple[str, str], ...]) -> str:\n",
    "    columns = []\n",
    "    for column_name, column_type in values:\n",
    "        columns.append(f\"{column_name} {column_type}\")\n",
    "\n",
    "    columns_sql = \",\\n\\t\".join(columns)\n",
    "    statement = f\"CREATE TABLE {table} (\\n\\t{columns_sql}\\n);\"\n",
    "    return statement\n",
    "\n",
    "\n",
    "table = \"ernst\"\n",
    "values = (\n",
    "    (\"id\", \"SERIAL PRIMARY KEY\"),\n",
    "    (\"name\", \"varchar(255)\"),\n",
    "    (\"type\", \"varchar(100)\")\n",
    ")\n",
    "\n",
    "print(generate_create_statement(table,values))"
   ],
   "id": "475ff797977891",
   "outputs": [
    {
     "name": "stdout",
     "output_type": "stream",
     "text": [
      "CREATE TABLE ernst (\n",
      "\tid SERIAL PRIMARY KEY,\n",
      "\tname varchar(255),\n",
      "\ttype varchar(100)\n",
      ");\n"
     ]
    }
   ],
   "execution_count": 10
  },
  {
   "metadata": {},
   "cell_type": "markdown",
   "source": [
    "## Database tests\n",
    "------------------------"
   ],
   "id": "662c250b10bc09b"
  },
  {
   "metadata": {
    "ExecuteTime": {
     "end_time": "2025-06-18T07:23:38.904737Z",
     "start_time": "2025-06-18T07:23:38.830749Z"
    }
   },
   "cell_type": "code",
   "source": "import cloud_data.connectors.database_connector as dc",
   "id": "81d83912119e9155",
   "outputs": [],
   "execution_count": 1
  },
  {
   "metadata": {},
   "cell_type": "markdown",
   "source": "#### Query",
   "id": "92aaa8564cf523d"
  },
  {
   "metadata": {
    "ExecuteTime": {
     "end_time": "2025-06-16T12:52:42.366126Z",
     "start_time": "2025-06-16T12:52:42.104801Z"
    }
   },
   "cell_type": "code",
   "source": [
    "statement = \"SELECT * FROM test\"\n",
    "print(dc.query(statement))"
   ],
   "id": "fdba65c705b5e0ff",
   "outputs": [
    {
     "name": "stdout",
     "output_type": "stream",
     "text": [
      "[(4, 'Peter', 17), (6, 'Albert', 17), (7, 'Ivan', 22), (8, 'Ivan', 30), (9, 'Thomas', 34), (10, 'Stefan', 40), (11, 'Ivan', 22), (12, 'Ivan', 30), (13, 'Thomas', 34), (14, 'Stefan', 40), (15, 'Ivan', 23), (16, 'Ivan', 30), (17, 'Thomas', 34), (18, 'Stefan', 40), (19, 'Ivan', 30), (20, 'Thomas', 34), (21, 'Stefan', 40), (22, 'Ivan', 30), (23, 'Thomas', 34), (24, 'Stefan', 40), (25, 'Ivan', 30), (26, 'Thomas', 34), (27, 'Stefan', 40), (28, 'Ivan', 30), (29, 'Thomas', 34), (30, 'Stefan', 40), (31, 'Ivan', 30), (32, 'Thomas', 34), (33, 'Stefan', 40), (34, 'Ivan', 30), (35, 'Thomas', 34), (36, 'Stefan', 40), (37, 'Ivan', 30), (38, 'Thomas', 34), (39, 'Stefan', 40), (40, 'Ivan', 30), (41, 'Thomas', 34), (42, 'Stefan', 40), (43, 'asd', 12), (44, 'dfds', 345), (45, 'rzhtzbrr', 1231), (49, 'asd', 12), (50, 'dfds', 345), (51, 'rzhtzbrr', 1231), (52, 'asd', 12), (53, 'dfds', 345), (54, 'rzhtzbrr', 1231), (55, 'asd', 12), (56, 'dfds', 345), (57, 'rzhtzbrr', 1231), (58, 'asd', 12), (59, 'dfds', 345), (60, 'rzhtzbrr', 1231), (61, 'Ivan', 30), (62, 'Thomas', 34), (63, 'Stefan', 40), (64, 'Ivan', 30), (65, 'Thomas', 34), (66, 'Stefan', 40)]\n"
     ]
    }
   ],
   "execution_count": 22
  },
  {
   "metadata": {},
   "cell_type": "markdown",
   "source": "#### Check Columns",
   "id": "d128c8c119e9ebae"
  },
  {
   "metadata": {
    "ExecuteTime": {
     "end_time": "2025-06-13T12:04:39.382389Z",
     "start_time": "2025-06-13T12:04:39.124912Z"
    }
   },
   "cell_type": "code",
   "source": [
    "tables = [\"test\",\"staging\"]\n",
    "dc.check_columns(tables[1])"
   ],
   "id": "4edeab23ed208f4",
   "outputs": [
    {
     "data": {
      "text/plain": [
       "[('col1',),\n",
       " ('col2',),\n",
       " ('col3',),\n",
       " ('col4',),\n",
       " ('col5',),\n",
       " ('col6',),\n",
       " ('col7',),\n",
       " ('col8',),\n",
       " ('col9',),\n",
       " ('processed',)]"
      ]
     },
     "execution_count": 3,
     "metadata": {},
     "output_type": "execute_result"
    }
   ],
   "execution_count": 3
  },
  {
   "metadata": {
    "ExecuteTime": {
     "end_time": "2025-06-12T09:49:00.014324Z",
     "start_time": "2025-06-12T09:49:00.007975Z"
    }
   },
   "cell_type": "code",
   "source": [
    "data4 = [('Ivan',30),('Thomas',34),('Stefan',40)]\n",
    "data5 = [('Ivan',30)]\n",
    "\n",
    "print(data5[0])"
   ],
   "id": "dd2130ba8bc10ee0",
   "outputs": [
    {
     "name": "stdout",
     "output_type": "stream",
     "text": [
      "('Ivan', 30)\n"
     ]
    }
   ],
   "execution_count": 28
  },
  {
   "metadata": {},
   "cell_type": "markdown",
   "source": "#### Insert",
   "id": "60ef1549a57cd69b"
  },
  {
   "metadata": {},
   "cell_type": "markdown",
   "source": "##### .execute()",
   "id": "68b09428d7499059"
  },
  {
   "metadata": {
    "ExecuteTime": {
     "end_time": "2025-06-13T12:04:47.986751Z",
     "start_time": "2025-06-13T12:04:47.323100Z"
    }
   },
   "cell_type": "code",
   "source": [
    "#Test mit .execute()\n",
    "\n",
    "table = [\"test\",\"staging\"]\n",
    "values = [('Ivan',23), (\"working\",\"testscore\",18,27,\"Herbert\",\"\",\"\",\"\",\"\",True),(\"faulty\",\"testscore\",17,25,\"Herbert\",\"\",\"\",\"\",True)]\n",
    "values_listoftuple = [(\"working\",\"testscore3\",18,27,\"Herbert\",\"\",\"\",\"\",\"\",True),(\"working\",\"testscore2\",18,27,\"Herbert\",\"\",\"\",\"\",\"\",True)]\n",
    "# Table test hat die Columns \"name\", \"number\" ist alphabetisch\n",
    "# Table staging id, col1-col15,processed\n",
    "\n",
    "\n",
    "print(dc.insert(table=table[1],amount=\"single\",values=values[1]))"
   ],
   "id": "bf2f4fe8af8ba37d",
   "outputs": [
    {
     "name": "stdout",
     "output_type": "stream",
     "text": [
      "INSERT INTO staging (col1, col2, col3, col4, col5, col6, col7, col8, col9, processed) VALUES (%s,%s,%s,%s,%s,%s,%s,%s,%s,%s)\n",
      "INSERT 0 1\n"
     ]
    }
   ],
   "execution_count": 4
  },
  {
   "metadata": {},
   "cell_type": "markdown",
   "source": "##### .executemany()",
   "id": "e6bf6acc7629f2bb"
  },
  {
   "metadata": {
    "ExecuteTime": {
     "end_time": "2025-06-13T12:05:46.710046Z",
     "start_time": "2025-06-13T12:05:46.117253Z"
    }
   },
   "cell_type": "code",
   "source": [
    "#Test mit .executemany()\n",
    "\n",
    "table = \"test\"\n",
    "# Table test hat die Columns \"name\", \"number\" ist alphabetisch\n",
    "manyvalues = [('Ivan',30),('Thomas',34),('Stefan',40)]\n",
    "print(dc.insert(table=table,amount=\"many\",values=manyvalues))"
   ],
   "id": "ec17f51fea01cc3d",
   "outputs": [
    {
     "name": "stdout",
     "output_type": "stream",
     "text": [
      "INSERT INTO test (name, number) VALUES (%s,%s)\n",
      "INSERT 0 1\n"
     ]
    }
   ],
   "execution_count": 5
  },
  {
   "metadata": {},
   "cell_type": "markdown",
   "source": "#### COPY",
   "id": "eb2134e53978e9e0"
  },
  {
   "metadata": {
    "ExecuteTime": {
     "end_time": "2025-06-16T10:48:57.223804Z",
     "start_time": "2025-06-16T10:48:56.883496Z"
    }
   },
   "cell_type": "code",
   "source": [
    "filepath = [\"airflow_data/testdb.csv\",\"airflow_data/dummy_file.csv.csv\"]\n",
    "tablename = [\"test\",\"staging_gamedata\"]\n",
    "columns = [(\"name\",\"number\"),(\"game_id\",\"user_name\",\"user_input\",\"timestamp\")]\n",
    "dc.copy_to_db(filepath[1],tablename[1],columns[1],format=\"CSV\",header=True,delimiter=\",\")"
   ],
   "id": "5731e0aa43c8ed13",
   "outputs": [
    {
     "name": "stdout",
     "output_type": "stream",
     "text": [
      "File (airflow_data/dummy_file.csv.csv) copied succesfully to table staging_gamedata.\n"
     ]
    }
   ],
   "execution_count": 3
  },
  {
   "metadata": {
    "ExecuteTime": {
     "end_time": "2025-06-13T12:35:06.798651Z",
     "start_time": "2025-06-13T12:35:06.205185Z"
    }
   },
   "cell_type": "code",
   "source": [
    "tablecolumns = dc._placeholder(dc.check_columns('staging_bbox'))\n",
    "#print(tablecolumns[0]) # columns_count\n",
    "#print(tablecolumns[1]) # columns_string\n",
    "print(tablecolumns[2]) # columns_tuple\n",
    "#print(tablecolumns[3]) # value_placeholder\n",
    "\n",
    "filepath = \"airflow_data/data_bbox/562db41a-9d87-4570-a84a-e1b5fb880578.csv\"\n",
    "tablename = \"staging_bbox\"\n",
    "columns = ['training', 'epoch', 'current_time_start', 'current_time_end', 'mean_squared_error', 'mean_center_dist', 'mean_size_error', 'mean_overlap', 'combined_score', 'acc_all_conditions', 'train_loss', 'val_loss', 'train_acc', 'val_acc', 'current_lr', 'IMG_SIZE', 'BATCH_SIZE']\n",
    "dc.copy_to_db(filepath,tablename,columns,format=\"CSV\",header=True,delimiter=\",\")\n",
    "\n"
   ],
   "id": "24c5e08117aedd69",
   "outputs": [
    {
     "name": "stdout",
     "output_type": "stream",
     "text": [
      "('training', 'epoch', 'current_time_start', 'current_time_end', 'mean_squared_error', 'mean_center_dist', 'mean_size_error', 'mean_overlap', 'combined_score', 'acc_all_conditions', 'train_loss', 'val_loss', 'train_acc', 'val_acc', 'current_lr', 'img_size', 'batch_size')\n",
      "File (airflow_data/562db41a-9d87-4570-a84a-e1b5fb880578.csv) copied succesfully to table staging_bbox.\n"
     ]
    }
   ],
   "execution_count": 5
  },
  {
   "metadata": {
    "ExecuteTime": {
     "end_time": "2025-06-16T11:43:58.835249Z",
     "start_time": "2025-06-16T11:43:58.524267Z"
    }
   },
   "cell_type": "code",
   "source": "dc.check_columns('staging_gamedata')",
   "id": "b3ed05615450b8ef",
   "outputs": [
    {
     "data": {
      "text/plain": [
       "[('game_id',), ('user_name',), ('user_input',), ('timestamp',)]"
      ]
     },
     "execution_count": 3,
     "metadata": {},
     "output_type": "execute_result"
    }
   ],
   "execution_count": 3
  },
  {
   "metadata": {},
   "cell_type": "markdown",
   "source": "### Update",
   "id": "1fde53d80909b99e"
  },
  {
   "metadata": {
    "ExecuteTime": {
     "end_time": "2025-06-16T11:23:42.360753Z",
     "start_time": "2025-06-16T11:23:41.861134Z"
    }
   },
   "cell_type": "code",
   "source": [
    "table = [\"staging_gamedata\"]\n",
    "column = [\"game_id\"]\n",
    "value = [\"36B0WC\"]\n",
    "action = [\"processed\"]\n",
    "dc.update(table[0],column[0],value[0],action=action[0])"
   ],
   "id": "a17b9043ab4e4ddc",
   "outputs": [
    {
     "data": {
      "text/plain": [
       "'UPDATE 50'"
      ]
     },
     "execution_count": 2,
     "metadata": {},
     "output_type": "execute_result"
    }
   ],
   "execution_count": 2
  },
  {
   "metadata": {},
   "cell_type": "markdown",
   "source": "### Delete",
   "id": "41aa6546de45d64b"
  },
  {
   "metadata": {
    "ExecuteTime": {
     "end_time": "2025-06-18T07:35:47.631090Z",
     "start_time": "2025-06-18T07:35:47.342137Z"
    }
   },
   "cell_type": "code",
   "source": [
    "table = \"staging_gamedata\"\n",
    "statement = f\"DELETE FROM {table} WHERE processed = True and id = 37 RETURNING *\"\n",
    "\n",
    "print(dc.insert_manual(statement))\n"
   ],
   "id": "605e0d44621b1cc",
   "outputs": [
    {
     "name": "stdout",
     "output_type": "stream",
     "text": [
      "[(37, '36B0WC', 'Max', '2', '10.81', True)]\n"
     ]
    }
   ],
   "execution_count": 2
  },
  {
   "metadata": {},
   "cell_type": "markdown",
   "source": [
    "## Google Cloud Storage (Bucket)\n",
    "--------------"
   ],
   "id": "9aee684dd0d3331"
  },
  {
   "metadata": {},
   "cell_type": "markdown",
   "source": "### Initialize cloud_connector",
   "id": "2d6fe04e1866d798"
  },
  {
   "metadata": {
    "ExecuteTime": {
     "end_time": "2025-06-13T08:17:25.576503Z",
     "start_time": "2025-06-13T08:17:24.226236Z"
    }
   },
   "cell_type": "code",
   "source": [
    "\n",
    "from cloud_data.connectors import cloud_connector as cc"
   ],
   "id": "87658a0cee831e33",
   "outputs": [],
   "execution_count": 1
  },
  {
   "metadata": {},
   "cell_type": "markdown",
   "source": "### Upload",
   "id": "5ee5203d93706306"
  },
  {
   "metadata": {
    "ExecuteTime": {
     "end_time": "2025-06-13T08:18:27.037024Z",
     "start_time": "2025-06-13T08:18:21.251901Z"
    }
   },
   "cell_type": "code",
   "source": [
    "# Full Filepath with filename\n",
    "cc.upload_to_bucket(\"airflow_data/testdb.csv\")"
   ],
   "id": "fc7dd5e8d629a497",
   "outputs": [
    {
     "name": "stdout",
     "output_type": "stream",
     "text": [
      "File airflow_data/testdb.csv uploaded as testdb.csv.\n"
     ]
    }
   ],
   "execution_count": 4
  },
  {
   "metadata": {},
   "cell_type": "markdown",
   "source": "### Download",
   "id": "f80db17a11fcf23f"
  },
  {
   "metadata": {},
   "cell_type": "code",
   "outputs": [],
   "execution_count": null,
   "source": [
    "# Filename in Bucket and Filelocation\n",
    "cc.download_from_bucket(\"test25.txt\",\"test25.txt\")"
   ],
   "id": "e09a065e26da61d9"
  },
  {
   "metadata": {},
   "cell_type": "markdown",
   "source": [
    "## Airflow\n",
    "---"
   ],
   "id": "c2c94928411fd056"
  },
  {
   "metadata": {
    "ExecuteTime": {
     "end_time": "2025-06-20T07:48:39.682698Z",
     "start_time": "2025-06-20T07:48:39.328267Z"
    }
   },
   "cell_type": "code",
   "source": [
    "import requests\n",
    "from requests.auth import HTTPBasicAuth\n",
    "\n",
    "username = \"airflow\"\n",
    "password = \"airflow\"\n",
    "airflow_endpoint = \"http://localhost:8080/api/v1/\""
   ],
   "id": "beda6dc209ff67d7",
   "outputs": [],
   "execution_count": 1
  },
  {
   "metadata": {},
   "cell_type": "markdown",
   "source": "#### Check Version",
   "id": "702bf09d49878278"
  },
  {
   "metadata": {
    "ExecuteTime": {
     "end_time": "2025-06-20T07:48:43.420856Z",
     "start_time": "2025-06-20T07:48:43.391934Z"
    }
   },
   "cell_type": "code",
   "source": [
    "service = \"version\"\n",
    "ENDPOINT_URL=airflow_endpoint + service\n",
    "response = requests.get(ENDPOINT_URL)\n",
    "print(response.json())"
   ],
   "id": "1c3914ee04f45dcd",
   "outputs": [
    {
     "name": "stdout",
     "output_type": "stream",
     "text": [
      "{'git_version': '.release:2.0.2+e494306fb01f3a026e7e2832ca94902e96b526fa', 'version': '2.0.2'}\n"
     ]
    }
   ],
   "execution_count": 2
  },
  {
   "metadata": {},
   "cell_type": "markdown",
   "source": "#### List DAGs",
   "id": "2b8754d5c3d3b79d"
  },
  {
   "metadata": {
    "ExecuteTime": {
     "end_time": "2025-06-20T07:48:46.069168Z",
     "start_time": "2025-06-20T07:48:45.954638Z"
    }
   },
   "cell_type": "code",
   "source": [
    "service = \"dags\"\n",
    "ENDPOINT_URL=airflow_endpoint + service\n",
    "\n",
    "response = requests.get(ENDPOINT_URL,auth=HTTPBasicAuth(username, password))\n",
    "if response.status_code == 200:\n",
    "    print(response.json())\n",
    "    print(response.json()['dags'][0][\"dag_id\"])\n",
    "    dags_id = response.json()['dags'][0][\"dag_id\"]\n",
    "\n",
    "else:\n",
    "    print(response.status_code)\n",
    "    print(response.text)"
   ],
   "id": "ed24b1f1083fdfca",
   "outputs": [
    {
     "name": "stdout",
     "output_type": "stream",
     "text": [
      "{'dags': [{'dag_id': 'CSV_Import_and_Processing_Pipeline', 'description': None, 'file_token': 'Ii9vcHQvYWlyZmxvdy9kYWdzL3BpcGVsaW5lX2Nzdl9tYWluLnB5Ig.UA84HMmf6BMY4vQI0T6zGHuAgJI', 'fileloc': '/opt/airflow/dags/pipeline_csv_main.py', 'is_paused': True, 'is_subdag': False, 'owners': ['airflow'], 'root_dag_id': None, 'schedule_interval': {'__type': 'CronExpression', 'value': '5 4 * * sun'}, 'tags': []}, {'dag_id': 'Delete_processed', 'description': None, 'file_token': 'Ii9vcHQvYWlyZmxvdy9kYWdzL3BpcGVsaW5lX2RlbGV0ZS5weSI.Xa3cJIM9Mz5HjBLcIlLbAqLMzHM', 'fileloc': '/opt/airflow/dags/pipeline_delete.py', 'is_paused': False, 'is_subdag': False, 'owners': ['airflow'], 'root_dag_id': None, 'schedule_interval': {'__type': 'CronExpression', 'value': '5 4 * * sun'}, 'tags': []}, {'dag_id': 'Process_Gaming_Staging_Data', 'description': None, 'file_token': 'Ii9vcHQvYWlyZmxvdy9kYWdzL3BpcGVsaW5lX3Byb2Nlc3Nfc3RhZ2luZy5weSI.jHBgzQ3Rh44iz-KGOgQKCnxtfOs', 'fileloc': '/opt/airflow/dags/pipeline_process_staging.py', 'is_paused': False, 'is_subdag': False, 'owners': ['airflow'], 'root_dag_id': None, 'schedule_interval': {'__type': 'CronExpression', 'value': '5 4 * * sun'}, 'tags': []}, {'dag_id': 'Save_file_data_to_database', 'description': None, 'file_token': 'Ii9vcHQvYWlyZmxvdy9kYWdzL3BpcGVsaW5lX2RhdGFiYXNlLnB5Ig.8fql4ctIur9OD6pxUrQsaCatOJ0', 'fileloc': '/opt/airflow/dags/pipeline_database.py', 'is_paused': True, 'is_subdag': False, 'owners': ['airflow'], 'root_dag_id': None, 'schedule_interval': {'__type': 'CronExpression', 'value': '*/5 * * * *'}, 'tags': []}, {'dag_id': 'Upload_csvs_to_staging', 'description': None, 'file_token': 'Ii9vcHQvYWlyZmxvdy9kYWdzL3BpcGVsaW5lX3VwbG9hZC5weSI.onM9KBto-HhRiAq-Pnu7ZrGc4AI', 'fileloc': '/opt/airflow/dags/pipeline_upload.py', 'is_paused': False, 'is_subdag': False, 'owners': ['airflow'], 'root_dag_id': None, 'schedule_interval': {'__type': 'CronExpression', 'value': '5 4 * * sun'}, 'tags': []}], 'total_entries': 5}\n",
      "CSV_Import_and_Processing_Pipeline\n"
     ]
    }
   ],
   "execution_count": 3
  },
  {
   "metadata": {},
   "cell_type": "markdown",
   "source": "#### Information about DAG",
   "id": "559f8174b44388a1"
  },
  {
   "metadata": {
    "ExecuteTime": {
     "end_time": "2025-06-20T07:51:48.667464Z",
     "start_time": "2025-06-20T07:51:48.568416Z"
    }
   },
   "cell_type": "code",
   "source": [
    "service = f\"dags/{dags_id}\"\n",
    "ENDPOINT_URL=airflow_endpoint + service\n",
    "\n",
    "response = requests.get(ENDPOINT_URL,auth=HTTPBasicAuth(username, password))\n",
    "if response.status_code == 200:\n",
    "    print(response.json())\n",
    "else:\n",
    "    print(response.status_code)\n",
    "    print(response.text)"
   ],
   "id": "de7edf18d1d63946",
   "outputs": [
    {
     "name": "stdout",
     "output_type": "stream",
     "text": [
      "{'dag_id': 'CSV_Import_and_Processing_Pipeline', 'description': None, 'file_token': 'Ii9vcHQvYWlyZmxvdy9kYWdzL3BpcGVsaW5lX2Nzdl9tYWluLnB5Ig.UA84HMmf6BMY4vQI0T6zGHuAgJI', 'fileloc': '/opt/airflow/dags/pipeline_csv_main.py', 'is_paused': True, 'is_subdag': False, 'owners': ['airflow'], 'root_dag_id': None, 'schedule_interval': {'__type': 'CronExpression', 'value': '5 4 * * sun'}, 'tags': []}\n"
     ]
    }
   ],
   "execution_count": 5
  },
  {
   "metadata": {},
   "cell_type": "markdown",
   "source": "#### Start DAG",
   "id": "b5e07c4f7cb0c3cc"
  },
  {
   "metadata": {
    "ExecuteTime": {
     "end_time": "2025-06-20T08:02:36.825201Z",
     "start_time": "2025-06-20T08:02:36.681771Z"
    }
   },
   "cell_type": "code",
   "source": [
    "import json\n",
    "\n",
    "# Run \"List DAGs\" to obtain first dags_id\n",
    "\n",
    "service = f\"dags/{dags_id}/dagRuns\"\n",
    "ENDPOINT_URL=airflow_endpoint + service\n",
    "\n",
    "headers = {\n",
    "    \"Content-Type\": \"application/json\"\n",
    "}\n",
    "\n",
    "data = {\n",
    "    \"conf\": {}\n",
    "}\n",
    "\n",
    "response = requests.post(ENDPOINT_URL, headers=headers, data=json.dumps(data),auth=(username, password))\n",
    "\n",
    "# Ergebnis anzeigen\n",
    "if response.status_code == 200:\n",
    "    print(\"DAG started successfully:\", response.json())\n",
    "else:\n",
    "    print(\"Error when starting DAGs:\", response.status_code, response.text)"
   ],
   "id": "52652d5d2c471232",
   "outputs": [
    {
     "name": "stdout",
     "output_type": "stream",
     "text": [
      "DAG wurde erfolgreich gestartet: {'conf': {}, 'dag_id': 'CSV_Import_and_Processing_Pipeline', 'dag_run_id': 'manual__2025-06-20T08:02:36.811848+00:00', 'end_date': None, 'execution_date': '2025-06-20T08:02:36.811848+00:00', 'external_trigger': True, 'start_date': '2025-06-20T08:02:36.815637+00:00', 'state': 'running'}\n"
     ]
    }
   ],
   "execution_count": 7
  }
 ],
 "metadata": {
  "kernelspec": {
   "display_name": "Python 3",
   "language": "python",
   "name": "python3"
  },
  "language_info": {
   "codemirror_mode": {
    "name": "ipython",
    "version": 2
   },
   "file_extension": ".py",
   "mimetype": "text/x-python",
   "name": "python",
   "nbconvert_exporter": "python",
   "pygments_lexer": "ipython2",
   "version": "2.7.6"
  }
 },
 "nbformat": 4,
 "nbformat_minor": 5
}
