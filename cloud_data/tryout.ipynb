{
 "cells": [
  {
   "metadata": {},
   "cell_type": "markdown",
   "source": "## Basic tests",
   "id": "1f30b0a324a9a2a"
  },
  {
   "metadata": {
    "ExecuteTime": {
     "end_time": "2025-06-10T13:25:31.472820Z",
     "start_time": "2025-06-10T13:25:31.466884Z"
    }
   },
   "cell_type": "code",
   "source": [
    "\n",
    "from ruamel.yaml import StringIO\n",
    "from six import StringIO\n",
    "\n",
    "list1= [\"Select asdasl\"]\n",
    "list2= \"Select dasahdka\"\n",
    "list3= [\"asdasda\",\"asdasda\"]\n",
    "\n",
    "\n",
    "print(type(list1))\n",
    "print(type(list2))\n",
    "print(type(list3))"
   ],
   "id": "5616f06e4b6c250d",
   "outputs": [
    {
     "name": "stdout",
     "output_type": "stream",
     "text": [
      "<class 'list'>\n",
      "<class 'str'>\n",
      "<class 'list'>\n"
     ]
    }
   ],
   "execution_count": 5
  },
  {
   "metadata": {
    "ExecuteTime": {
     "end_time": "2025-06-10T13:25:31.513011Z",
     "start_time": "2025-06-10T13:25:31.509637Z"
    }
   },
   "cell_type": "code",
   "source": "",
   "id": "16c8b17564e9a77b",
   "outputs": [],
   "execution_count": null
  },
  {
   "metadata": {
    "ExecuteTime": {
     "end_time": "2025-06-10T13:25:31.839528Z",
     "start_time": "2025-06-10T13:25:31.525982Z"
    }
   },
   "cell_type": "code",
   "source": [
    "result = dc.query(\"SELECT count(column_name) as column_count FROM information_schema.columns WHERE table_name = 'test_table' and column_name != 'id'\")[0][0]\n",
    "print(f\"--- {result}\")"
   ],
   "id": "798981d7a3cb4fa6",
   "outputs": [
    {
     "name": "stdout",
     "output_type": "stream",
     "text": [
      "--- 0\n"
     ]
    }
   ],
   "execution_count": 6
  },
  {
   "metadata": {
    "ExecuteTime": {
     "end_time": "2025-06-10T13:25:32.085112Z",
     "start_time": "2025-06-10T13:25:31.850603Z"
    }
   },
   "cell_type": "code",
   "source": [
    "result = dc.query(\"SELECT column_name as column_count FROM information_schema.columns WHERE table_name = 'test_table' and column_name != 'id'\")\n",
    "print(f\">\\n {result}\")\n",
    "\n",
    "list = tuple([column[0] for column in result])\n",
    "print(list)\n",
    "\n",
    "print(f\"INSERT INTO table {list}\")"
   ],
   "id": "495b9be1fe9760ed",
   "outputs": [
    {
     "name": "stdout",
     "output_type": "stream",
     "text": [
      ">\n",
      " []\n",
      "()\n",
      "INSERT INTO table ()\n"
     ]
    }
   ],
   "execution_count": 7
  },
  {
   "metadata": {
    "ExecuteTime": {
     "end_time": "2025-06-10T13:25:32.101562Z",
     "start_time": "2025-06-10T13:25:32.095505Z"
    }
   },
   "cell_type": "code",
   "source": [
    "return_value = [('name',), ('bezeichnung',)]\n",
    "count = len(return_value)\n",
    "print(count)\n",
    "\n",
    "new_list = []\n",
    "for i in return_value:\n",
    "    new_list.append(i[0])\n",
    "\n",
    "print(new_list)\n",
    "\n",
    "new_list2 = [column[0] for column in return_value]\n",
    "print(new_list2)\n",
    "\n",
    "filtered = len(return_value)\n",
    "print(f\"({('%s,'*(filtered-1) + '%s')})\")\n"
   ],
   "id": "ce18388b8f361d15",
   "outputs": [
    {
     "name": "stdout",
     "output_type": "stream",
     "text": [
      "2\n",
      "['name', 'bezeichnung']\n",
      "['name', 'bezeichnung']\n",
      "(%s,%s)\n"
     ]
    }
   ],
   "execution_count": 8
  },
  {
   "metadata": {
    "ExecuteTime": {
     "end_time": "2025-06-10T13:25:32.133901Z",
     "start_time": "2025-06-10T13:25:32.122726Z"
    }
   },
   "cell_type": "code",
   "source": [
    "values1 = None\n",
    "values = ()\n",
    "\n",
    "def ubs():\n",
    "    if not values or len(values) < 1:\n",
    "        return (\"Please provide a 'value' when using this function\")\n",
    "\n",
    "ubs()"
   ],
   "id": "44e5729c1fcc6d64",
   "outputs": [
    {
     "data": {
      "text/plain": [
       "\"Please provide a 'value' when using this function\""
      ]
     },
     "execution_count": 9,
     "metadata": {},
     "output_type": "execute_result"
    }
   ],
   "execution_count": 9
  },
  {
   "metadata": {
    "ExecuteTime": {
     "end_time": "2025-06-10T13:25:32.152553Z",
     "start_time": "2025-06-10T13:25:32.146404Z"
    }
   },
   "cell_type": "code",
   "source": [
    "def generate_create_statement(table: str, values: tuple[tuple[str, str], ...]) -> str:\n",
    "    columns = []\n",
    "    for column_name, column_type in values:\n",
    "        columns.append(f\"{column_name} {column_type}\")\n",
    "\n",
    "    columns_sql = \",\\n\\t\".join(columns)\n",
    "    statement = f\"CREATE TABLE {table} (\\n\\t{columns_sql}\\n);\"\n",
    "    return statement\n",
    "\n",
    "\n",
    "table = \"ernst\"\n",
    "values = (\n",
    "    (\"id\", \"SERIAL PRIMARY KEY\"),\n",
    "    (\"name\", \"varchar(255)\"),\n",
    "    (\"type\", \"varchar(100)\")\n",
    ")\n",
    "\n",
    "print(generate_create_statement(table,values))"
   ],
   "id": "475ff797977891",
   "outputs": [
    {
     "name": "stdout",
     "output_type": "stream",
     "text": [
      "CREATE TABLE ernst (\n",
      "\tid SERIAL PRIMARY KEY,\n",
      "\tname varchar(255),\n",
      "\ttype varchar(100)\n",
      ");\n"
     ]
    }
   ],
   "execution_count": 10
  },
  {
   "metadata": {},
   "cell_type": "markdown",
   "source": [
    "## Database tests\n",
    "------------------------"
   ],
   "id": "662c250b10bc09b"
  },
  {
   "metadata": {
    "ExecuteTime": {
     "end_time": "2025-06-20T12:12:38.515241Z",
     "start_time": "2025-06-20T12:12:38.302114Z"
    }
   },
   "cell_type": "code",
   "source": "import cloud_data.connectors.database_connector as dc",
   "id": "81d83912119e9155",
   "outputs": [],
   "execution_count": 8
  },
  {
   "metadata": {},
   "cell_type": "markdown",
   "source": "#### Query",
   "id": "92aaa8564cf523d"
  },
  {
   "metadata": {
    "ExecuteTime": {
     "end_time": "2025-06-20T12:14:21.956164Z",
     "start_time": "2025-06-20T12:14:21.656227Z"
    }
   },
   "cell_type": "code",
   "source": [
    "#statement = \"SELECT * FROM test\"\n",
    "statement = f\"SELECT * FROM staging_gamedata WHERE processed=True\"\n",
    "print(dc.query(statement))"
   ],
   "id": "fdba65c705b5e0ff",
   "outputs": [
    {
     "name": "stdout",
     "output_type": "stream",
     "text": [
      "[(403, 'zFaPge', 'Man', '4', '1.38', True, 50, 400, 715, 0, 0), (404, 'zFaPge', 'Man', '4', '1.54', True, 50, 400, 715, 0, 0), (405, 'zFaPge', 'Man', '4', '1.72', True, 50, 400, 715, 0, 0), (406, 'zFaPge', 'Man', '1', '1.87', True, 50, 400, 715, 0, 0), (407, 'zFaPge', 'Man', '4', '1.9', True, 50, 386, 715, 0, 0), (408, 'zFaPge', 'Man', '2', '2.27', True, 50, 204, 715, 0, 0), (409, 'zFaPge', 'Man', '4', '2.37', True, 50, 218, 715, 0, 0), (410, 'zFaPge', 'Man', '4', '2.53', True, 46, 253, 715, 0, 0), (411, 'zFaPge', 'Man', '1', '2.56', True, 44, 253, 715, 0, 0), (412, 'zFaPge', 'Man', '3', '2.62', True, 40, 225, 715, 0, 0), (413, 'zFaPge', 'Man', '2', '2.67', True, 37, 204, 659, 0, 0), (414, 'zFaPge', 'Man', '4', '2.78', True, 37, 246, 547, 0, 0), (415, 'zFaPge', 'Man', '4', '2.99', True, 37, 288, 475, 0, 0), (416, 'zFaPge', 'Man', '4', '3.17', True, 37, 288, 547, 0, 0), (417, 'zFaPge', 'Man', '4', '3.33', True, 37, 288, 715, 0, 0), (418, 'zFaPge', 'Man', '2', '3.38', True, 37, 288, 715, 0, 0), (419, 'zFaPge', 'Man', '4', '3.51', True, 37, 351, 715, 0, 0), (420, 'zFaPge', 'Man', '4', '3.67', True, 37, 365, 715, 0, 0), (421, 'zFaPge', 'Man', '4', '3.82', True, 37, 365, 715, 0, 0), (422, 'zFaPge', 'Man', '4', '3.98', True, 37, 365, 715, 0, 0), (423, 'zFaPge', 'Man', '4', '4.2', True, 37, 365, 715, 0, 0), (424, 'zFaPge', 'Man', '1', '4.39', True, 37, 365, 715, 0, 0), (425, 'zFaPge', 'Man', '2', '4.86', True, 37, 141, 715, 0, 0), (426, 'zFaPge', 'Man', '4', '4.93', True, 37, 162, 715, 0, 0), (427, 'zFaPge', 'Man', '4', '5.09', True, 37, 183, 715, 0, 0), (428, 'zFaPge', 'Man', '4', '5.26', True, 37, 183, 715, 0, 0), (429, 'zFaPge', 'Man', '4', '5.41', True, 37, 183, 715, 0, 0), (430, 'zFaPge', 'Man', '4', '5.56', True, 37, 183, 715, 0, 0), (431, 'zFaPge', 'Man', '4', '5.72', True, 37, 183, 715, 1, 0), (432, 'zFaPge', 'Man', '4', '5.86', True, 37, 183, 715, 1, 0), (433, 'zFaPge', 'Man', '4', '6.02', True, 37, 183, 715, 1, 0), (434, 'zFaPge', 'Man', '4', '6.23', True, 37, 183, 715, 1, 0), (435, 'zFaPge', 'Man', '4', '6.5', True, 37, 183, 715, 1, 0), (436, 'zFaPge', 'Man', '4', '6.65', True, 37, 183, 715, 1, 0), (437, 'zFaPge', 'Man', '4', '6.81', True, 37, 183, 715, 1, 0), (438, 'zFaPge', 'Man', '2', '6.83', True, 37, 183, 715, 1, 0), (439, 'zFaPge', 'Man', '1', '7.27', True, 37, 274, 715, 1, 0), (440, 'zFaPge', 'Man', '2', '7.82', True, 37, 43, 715, 1, 0), (441, 'zFaPge', 'Man', '4', '7.97', True, 37, 120, 715, 1, 0), (442, 'zFaPge', 'Man', '4', '8.15', True, 37, 120, 715, 2, 0), (443, 'zFaPge', 'Man', '4', '8.32', True, 37, 120, 715, 2, 0), (444, 'zFaPge', 'Man', '4', '8.47', True, 37, 120, 715, 2, 0), (445, 'zFaPge', 'Man', '4', '8.67', True, 37, 120, 715, 2, 0), (446, 'zFaPge', 'Man', '4', '8.82', True, 37, 120, 715, 2, 0), (447, 'zFaPge', 'Man', '4', '8.99', True, 37, 120, 715, 2, 0), (448, 'zFaPge', 'Man', '4', '9.19', True, 37, 120, 715, 3, 0), (449, 'zFaPge', 'Man', '4', '9.38', True, 37, 120, 715, 3, 0), (450, 'zFaPge', 'Man', '4', '9.59', True, 37, 120, 715, 3, 0), (451, 'zFaPge', 'Man', '4', '9.78', True, 37, 120, 715, 3, 0), (452, 'zFaPge', 'Man', '4', '9.95', True, 37, 120, 715, 3, 0), (453, 'zFaPge', 'Man', '2', '10.36', True, 37, 120, 715, 3, 0), (454, 'zFaPge', 'Man', '3', '10.58', True, 37, 190, 715, 3, 0), (455, 'zFaPge', 'Man', '2', '10.64', True, 37, 190, 643, 3, 0), (456, 'zFaPge', 'Man', '1', '11.22', True, 37, 337, 627, 3, 0), (457, 'zFaPge', 'Man', '4', '11.3', True, 37, 302, 715, 3, 0), (458, 'zFaPge', 'Man', '4', '11.48', True, 37, 246, 715, 3, 0), (459, 'zFaPge', 'Man', '4', '11.66', True, 37, 246, 715, 3, 0), (460, 'zFaPge', 'Man', '2', '12.0', True, 37, 246, 715, 3, 0), (461, 'zFaPge', 'Man', '2', '12.25', True, 37, 323, 715, 3, 0), (462, 'zFaPge', 'Man', '3', '12.25', True, 37, 323, 715, 3, 0), (463, 'zFaPge', 'Man', '4', '12.71', True, 37, 421, 491, 3, 0), (464, 'zFaPge', 'Man', '4', '13.06', True, 37, 421, 715, 3, 0), (465, 'zFaPge', 'Man', '4', '13.26', True, 37, 421, 715, 3, 0), (466, 'zFaPge', 'Man', '4', '13.47', True, 37, 421, 715, 3, 0), (467, 'zFaPge', 'Man', '4', '13.64', True, 37, 421, 715, 3, 0), (468, 'zFaPge', 'Man', '4', '13.79', True, 37, 421, 715, 3, 0), (469, 'zFaPge', 'Man', '4', '13.98', True, 37, 421, 715, 3, 0), (470, 'zFaPge', 'Man', '1', '14.15', True, 37, 421, 715, 4, 0), (471, 'zFaPge', 'Man', '2', '14.71', True, 37, 176, 715, 4, 0), (472, 'zFaPge', 'Man', '2', '15.28', True, 37, 274, 715, 4, 0), (473, 'zFaPge', 'Man', '1', '15.65', True, 37, 372, 715, 4, 0), (474, 'zFaPge', 'Man', '2', '16.27', True, 37, 113, 715, 4, 0), (475, 'zFaPge', 'Man', '3', '16.61', True, 37, 204, 715, 4, 0), (476, 'zFaPge', 'Man', '4', '17.58', True, 37, 204, 715, 4, 0), (477, 'zFaPge', 'Man', '4', '17.88', True, 37, 204, 715, 4, 0), (478, 'zFaPge', 'Man', '4', '18.14', True, 37, 204, 715, 4, 0), (479, 'zFaPge', 'Man', '4', '18.35', True, 37, 204, 715, 4, 0), (480, 'zFaPge', 'Man', '4', '18.57', True, 37, 204, 715, 4, 0), (481, 'zFaPge', 'Man', '4', '18.84', True, 37, 204, 715, 4, 0), (482, 'zFaPge', 'Man', '4', '19.05', True, 37, 204, 715, 5, 0), (483, 'zFaPge', 'Man', '2', '19.76', True, 37, 204, 715, 5, 0), (484, 'zFaPge', 'Man', '4', '21.03', True, 37, 386, 715, 5, 0), (485, 'zFaPge', 'Man', '4', '21.23', True, 37, 386, 715, 5, 0), (486, 'zFaPge', 'Man', '4', '21.42', True, 37, 386, 715, 5, 0), (487, 'zFaPge', 'Man', '4', '21.57', True, 37, 386, 715, 5, 0), (488, 'zFaPge', 'Man', '3', '21.7', True, 37, 386, 715, 5, 0), (489, 'zFaPge', 'Man', '2', '22.16', True, 37, 386, 497, 5, 0), (490, 'zFaPge', 'Man', '1', '22.73', True, 37, 498, 715, 5, 0), (491, 'zFaPge', 'Man', '2', '23.17', True, 37, 295, 715, 5, 0), (492, 'zFaPge', 'Man', '4', '23.28', True, 37, 351, 715, 5, 0), (493, 'zFaPge', 'Man', '4', '23.47', True, 37, 365, 715, 5, 0), (494, 'zFaPge', 'Man', '4', '23.64', True, 37, 365, 715, 5, 0), (495, 'zFaPge', 'Man', '4', '23.82', True, 37, 365, 715, 5, 0), (496, 'zFaPge', 'Man', '1', '23.94', True, 37, 365, 715, 5, 0), (497, 'zFaPge', 'Man', '2', '24.61', True, 37, 113, 715, 5, 0), (498, 'zFaPge', 'Man', '3', '24.78', True, 37, 169, 715, 5, 0), (499, 'zFaPge', 'Man', '4', '24.81', True, 37, 169, 677, 5, 0), (500, 'zFaPge', 'Man', '2', '25.01', True, 37, 169, 503, 5, 0), (501, 'zFaPge', 'Man', '4', '25.81', True, 37, 351, 715, 5, 0), (502, 'zFaPge', 'Man', '4', '26.03', True, 37, 351, 715, 5, 0), (503, 'zFaPge', 'Man', '4', '26.21', True, 37, 351, 715, 5, 0), (504, 'zFaPge', 'Man', '4', '26.38', True, 37, 351, 715, 5, 0), (505, 'zFaPge', 'Man', '4', '26.71', True, 37, 351, 715, 5, 0), (506, 'zFaPge', 'Man', '4', '26.89', True, 37, 351, 715, 5, 0), (507, 'zFaPge', 'Man', '2', '27.16', True, 37, 351, 715, 5, 0), (508, 'zFaPge', 'Man', '3', '27.22', True, 37, 379, 715, 5, 0), (509, 'zFaPge', 'Man', '4', '28.06', True, 34, 540, 715, 5, 0), (510, 'zFaPge', 'Man', '4', '28.25', True, 34, 540, 715, 5, 0), (511, 'zFaPge', 'Man', '4', '28.46', True, 34, 540, 715, 5, 0), (512, 'zFaPge', 'Man', '4', '28.65', True, 34, 540, 715, 5, 0), (513, 'zFaPge', 'Man', '4', '28.82', True, 34, 540, 715, 5, 0), (514, 'zFaPge', 'Man', '3', '28.91', True, 34, 540, 715, 5, 0), (515, 'zFaPge', 'Man', '2', '28.97', True, 34, 540, 643, 5, 0), (516, 'zFaPge', 'Man', '2', '29.74', True, 24, 736, 715, 5, 0), (517, 'zFaPge', 'Man', '3', '29.74', True, 24, 736, 715, 5, 0), (518, 'zFaPge', 'Man', '1', '29.84', True, 21, 778, 597, 5, 0), (519, 'zFaPge', 'Man', '2', '30.22', True, 21, 652, 503, 5, 0), (520, 'zFaPge', 'Man', '1', '30.49', True, 21, 729, 715, 5, 0), (521, 'zFaPge', 'Man', '4', '30.65', True, 21, 652, 715, 5, 0), (522, 'zFaPge', 'Man', '1', '30.78', True, 21, 624, 715, 5, 0), (523, 'zFaPge', 'Man', '4', '30.84', True, 21, 596, 715, 6, 0), (524, 'zFaPge', 'Man', '4', '31.01', True, 21, 512, 715, 6, 0), (525, 'zFaPge', 'Man', '4', '31.22', True, 21, 449, 715, 6, 0), (526, 'zFaPge', 'Man', '2', '31.72', True, 21, 449, 715, 6, 0), (527, 'zFaPge', 'Man', '4', '32.17', True, 21, 589, 715, 6, 0), (528, 'zFaPge', 'Man', '4', '32.37', True, 21, 589, 715, 6, 0), (529, 'zFaPge', 'Man', '2', '32.48', True, 21, 589, 715, 6, 0), (530, 'zFaPge', 'Man', '3', '32.54', True, 13, 617, 715, 6, 0), (531, 'zFaPge', 'Man', '1', '33.2', True, 5, 701, 659, 6, 0), (532, 'zFaPge', 'Man', '4', '33.34', True, 5, 638, 715, 6, 0), (533, 'zFaPge', 'Man', '4', '33.54', True, 5, 610, 715, 6, 0), (534, 'zFaPge', 'Man', '4', '33.73', True, 5, 610, 715, 6, 0), (535, 'zFaPge', 'Man', '1', '33.8', True, 5, 610, 715, 6, 0), (536, 'zFaPge', 'Man', '4', '33.89', True, 5, 568, 715, 6, 1), (537, 'zFaPge', 'Man', '4', '34.1', True, 5, 470, 715, 6, 1), (538, 'zFaPge', 'Man', '2', '34.44', True, 5, 421, 715, 6, 1), (539, 'zFaPge', 'Man', '4', '34.53', True, 5, 463, 715, 6, 1), (540, 'zFaPge', 'Man', '4', '34.69', True, 5, 491, 715, 6, 1), (541, 'zFaPge', 'Man', '4', '34.88', True, 5, 491, 715, 6, 1), (542, 'zFaPge', 'Man', '4', '35.05', True, 5, 491, 715, 6, 1), (543, 'zFaPge', 'Man', '4', '35.2', True, 5, 491, 715, 6, 1), (544, 'zFaPge', 'Man', '1', '35.34', True, 5, 491, 715, 6, 1), (545, 'zFaPge', 'Man', '2', '36.23', True, 5, 64, 715, 6, 1), (546, 'zFaPge', 'Man', '4', '36.34', True, 5, 85, 715, 6, 1), (547, 'zFaPge', 'Man', '4', '36.53', True, 5, 120, 715, 7, 1), (548, 'zFaPge', 'Man', '4', '36.72', True, 5, 120, 715, 7, 1), (549, 'zFaPge', 'Man', '2', '36.96', True, 5, 120, 715, 7, 1), (550, 'zFaPge', 'Man', '3', '36.98', True, 5, 127, 715, 7, 1), (551, 'zFaPge', 'Man', '4', '37.65', True, 5, 281, 677, 7, 1), (552, 'zFaPge', 'Man', '4', '37.83', True, 5, 281, 715, 7, 1), (553, 'zFaPge', 'Man', '4', '38.02', True, 5, 281, 715, 7, 1), (554, 'zFaPge', 'Man', '4', '38.19', True, 5, 281, 715, 7, 1), (555, 'zFaPge', 'Man', '4', '38.33', True, 5, 281, 715, 7, 2), (556, 'zFaPge', 'Man', '4', '38.51', True, 5, 281, 715, 7, 2), (557, 'zFaPge', 'Man', '4', '38.66', True, 5, 281, 715, 7, 2), (558, 'zFaPge', 'Man', '4', '38.82', True, 5, 281, 715, 7, 2), (559, 'zFaPge', 'Man', '4', '38.98', True, 5, 281, 715, 7, 2), (560, 'zFaPge', 'Man', '4', '39.29', True, 5, 281, 715, 7, 2), (561, 'zFaPge', 'Man', '4', '39.43', True, 5, 281, 715, 7, 2), (562, 'zFaPge', 'Man', '4', '39.58', True, 5, 281, 715, 7, 2), (563, 'zFaPge', 'Man', '4', '39.74', True, 5, 281, 715, 7, 3), (564, 'zFaPge', 'Man', '4', '39.92', True, 5, 281, 715, 7, 3), (565, 'zFaPge', 'Man', '4', '40.09', True, 5, 281, 715, 7, 3), (566, 'zFaPge', 'Man', '4', '40.38', True, 5, 281, 715, 7, 3), (567, 'zFaPge', 'Man', '4', '40.6', True, 5, 281, 715, 7, 3), (568, 'zFaPge', 'Man', '4', '40.85', True, 5, 281, 715, 7, 3), (569, 'zFaPge', 'Man', '4', '41.02', True, 5, 281, 715, 7, 3), (570, 'zFaPge', 'Man', '4', '41.3', True, 5, 281, 715, 7, 3), (571, 'zFaPge', 'Man', '4', '41.5', True, 5, 281, 715, 7, 3), (572, 'zFaPge', 'Man', '4', '41.65', True, 5, 281, 715, 7, 3), (573, 'zFaPge', 'Man', '4', '41.81', True, 5, 281, 715, 7, 4), (574, 'zFaPge', 'Man', '4', '42.03', True, 5, 281, 715, 7, 4), (575, 'zFaPge', 'Man', '4', '42.19', True, 5, 281, 715, 7, 4), (576, 'zFaPge', 'Man', '4', '42.38', True, 5, 281, 715, 7, 4), (577, 'zFaPge', 'Man', '4', '42.56', True, 5, 281, 715, 7, 4), (578, 'zFaPge', 'Man', '4', '42.72', True, 5, 281, 715, 7, 4), (579, 'zFaPge', 'Man', '4', '42.91', True, 5, 281, 715, 7, 4), (580, 'zFaPge', 'Man', '4', '43.09', True, 5, 281, 715, 7, 4), (581, 'zFaPge', 'Man', '4', '43.48', True, 5, 281, 715, 7, 4), (582, 'zFaPge', 'Man', '4', '43.7', True, 5, 281, 715, 7, 4), (583, 'zFaPge', 'Man', '4', '43.89', True, 5, 281, 715, 7, 4), (584, 'zFaPge', 'Man', '4', '44.08', True, 5, 281, 715, 7, 4), (585, 'zFaPge', 'Man', '4', '44.28', True, 5, 281, 715, 7, 4), (586, 'zFaPge', 'Man', '4', '44.46', True, 5, 281, 715, 7, 4), (587, 'zFaPge', 'Man', '4', '44.63', True, 5, 281, 715, 7, 5), (588, 'zFaPge', 'Man', '4', '44.81', True, 5, 281, 715, 7, 5), (589, 'zFaPge', 'Man', '4', '44.99', True, 5, 281, 715, 7, 5), (590, 'zFaPge', 'Man', '4', '45.18', True, 5, 281, 715, 7, 5), (591, 'zFaPge', 'Man', '4', '45.36', True, 5, 281, 715, 7, 5), (592, 'zFaPge', 'Man', '4', '45.55', True, 5, 281, 715, 7, 5), (593, 'zFaPge', 'Man', '4', '45.73', True, 5, 281, 715, 7, 5), (594, 'zFaPge', 'Man', '4', '45.9', True, 5, 281, 715, 7, 5), (595, 'zFaPge', 'Man', '4', '46.08', True, 5, 281, 715, 7, 5), (596, 'zFaPge', 'Man', '4', '46.27', True, 5, 281, 715, 7, 5), (597, 'zFaPge', 'Man', '4', '46.44', True, 5, 281, 715, 7, 5), (598, 'zFaPge', 'Man', '4', '46.63', True, 5, 281, 715, 7, 5), (599, 'zFaPge', 'Man', '4', '46.79', True, 5, 281, 715, 7, 5)]\n"
     ]
    }
   ],
   "execution_count": 10
  },
  {
   "metadata": {},
   "cell_type": "markdown",
   "source": "#### Check Columns",
   "id": "d128c8c119e9ebae"
  },
  {
   "metadata": {
    "ExecuteTime": {
     "end_time": "2025-06-13T12:04:39.382389Z",
     "start_time": "2025-06-13T12:04:39.124912Z"
    }
   },
   "cell_type": "code",
   "source": [
    "tables = [\"test\",\"staging\"]\n",
    "dc.check_columns(tables[1])"
   ],
   "id": "4edeab23ed208f4",
   "outputs": [
    {
     "data": {
      "text/plain": [
       "[('col1',),\n",
       " ('col2',),\n",
       " ('col3',),\n",
       " ('col4',),\n",
       " ('col5',),\n",
       " ('col6',),\n",
       " ('col7',),\n",
       " ('col8',),\n",
       " ('col9',),\n",
       " ('processed',)]"
      ]
     },
     "execution_count": 3,
     "metadata": {},
     "output_type": "execute_result"
    }
   ],
   "execution_count": 3
  },
  {
   "metadata": {
    "ExecuteTime": {
     "end_time": "2025-06-12T09:49:00.014324Z",
     "start_time": "2025-06-12T09:49:00.007975Z"
    }
   },
   "cell_type": "code",
   "source": [
    "data4 = [('Ivan',30),('Thomas',34),('Stefan',40)]\n",
    "data5 = [('Ivan',30)]\n",
    "\n",
    "print(data5[0])"
   ],
   "id": "dd2130ba8bc10ee0",
   "outputs": [
    {
     "name": "stdout",
     "output_type": "stream",
     "text": [
      "('Ivan', 30)\n"
     ]
    }
   ],
   "execution_count": 28
  },
  {
   "metadata": {},
   "cell_type": "markdown",
   "source": "#### Insert",
   "id": "60ef1549a57cd69b"
  },
  {
   "metadata": {},
   "cell_type": "markdown",
   "source": "##### .execute()",
   "id": "68b09428d7499059"
  },
  {
   "metadata": {
    "ExecuteTime": {
     "end_time": "2025-06-13T12:04:47.986751Z",
     "start_time": "2025-06-13T12:04:47.323100Z"
    }
   },
   "cell_type": "code",
   "source": [
    "#Test mit .execute()\n",
    "\n",
    "table = [\"test\",\"staging\"]\n",
    "values = [('Ivan',23), (\"working\",\"testscore\",18,27,\"Herbert\",\"\",\"\",\"\",\"\",True),(\"faulty\",\"testscore\",17,25,\"Herbert\",\"\",\"\",\"\",True)]\n",
    "values_listoftuple = [(\"working\",\"testscore3\",18,27,\"Herbert\",\"\",\"\",\"\",\"\",True),(\"working\",\"testscore2\",18,27,\"Herbert\",\"\",\"\",\"\",\"\",True)]\n",
    "# Table test hat die Columns \"name\", \"number\" ist alphabetisch\n",
    "# Table staging id, col1-col15,processed\n",
    "\n",
    "\n",
    "print(dc.insert(table=table[1],amount=\"single\",values=values[1]))"
   ],
   "id": "bf2f4fe8af8ba37d",
   "outputs": [
    {
     "name": "stdout",
     "output_type": "stream",
     "text": [
      "INSERT INTO staging (col1, col2, col3, col4, col5, col6, col7, col8, col9, processed) VALUES (%s,%s,%s,%s,%s,%s,%s,%s,%s,%s)\n",
      "INSERT 0 1\n"
     ]
    }
   ],
   "execution_count": 4
  },
  {
   "metadata": {},
   "cell_type": "markdown",
   "source": "##### .executemany()",
   "id": "e6bf6acc7629f2bb"
  },
  {
   "metadata": {
    "ExecuteTime": {
     "end_time": "2025-06-13T12:05:46.710046Z",
     "start_time": "2025-06-13T12:05:46.117253Z"
    }
   },
   "cell_type": "code",
   "outputs": [
    {
     "name": "stdout",
     "output_type": "stream",
     "text": [
      "INSERT INTO test (name, number) VALUES (%s,%s)\n",
      "INSERT 0 1\n"
     ]
    }
   ],
   "execution_count": 5,
   "source": [
    "#Test mit .executemany()\n",
    "\n",
    "table = \"test\"\n",
    "# Table test hat die Columns \"name\", \"number\" ist alphabetisch\n",
    "manyvalues = [('Ivan',30),('Thomas',34),('Stefan',40)]\n",
    "print(dc.insert(table=table,amount=\"many\",values=manyvalues))"
   ],
   "id": "ec17f51fea01cc3d"
  },
  {
   "metadata": {},
   "cell_type": "markdown",
   "source": "#### COPY",
   "id": "eb2134e53978e9e0"
  },
  {
   "metadata": {
    "ExecuteTime": {
     "end_time": "2025-06-16T10:48:57.223804Z",
     "start_time": "2025-06-16T10:48:56.883496Z"
    }
   },
   "cell_type": "code",
   "outputs": [
    {
     "name": "stdout",
     "output_type": "stream",
     "text": [
      "File (airflow_data/dummy_file.csv.csv) copied succesfully to table staging_gamedata.\n"
     ]
    }
   ],
   "execution_count": 3,
   "source": [
    "filepath = [\"airflow_data/testdb.csv\",\"airflow_data/dummy_file.csv.csv\"]\n",
    "tablename = [\"test\",\"staging_gamedata\"]\n",
    "columns = [(\"name\",\"number\"),(\"game_id\",\"user_name\",\"user_input\",\"timestamp\")]\n",
    "dc.copy_to_db(filepath[1],tablename[1],columns[1],format=\"CSV\",header=True,delimiter=\",\")"
   ],
   "id": "5731e0aa43c8ed13"
  },
  {
   "metadata": {
    "ExecuteTime": {
     "end_time": "2025-06-13T12:35:06.798651Z",
     "start_time": "2025-06-13T12:35:06.205185Z"
    }
   },
   "cell_type": "code",
   "outputs": [
    {
     "name": "stdout",
     "output_type": "stream",
     "text": [
      "('training', 'epoch', 'current_time_start', 'current_time_end', 'mean_squared_error', 'mean_center_dist', 'mean_size_error', 'mean_overlap', 'combined_score', 'acc_all_conditions', 'train_loss', 'val_loss', 'train_acc', 'val_acc', 'current_lr', 'img_size', 'batch_size')\n",
      "File (airflow_data/562db41a-9d87-4570-a84a-e1b5fb880578.csv) copied succesfully to table staging_bbox.\n"
     ]
    }
   ],
   "execution_count": 5,
   "source": [
    "tablecolumns = dc._placeholder(dc.check_columns('staging_bbox'))\n",
    "#print(tablecolumns[0]) # columns_count\n",
    "#print(tablecolumns[1]) # columns_string\n",
    "print(tablecolumns[2]) # columns_tuple\n",
    "#print(tablecolumns[3]) # value_placeholder\n",
    "\n",
    "filepath = \"airflow_data/data_bbox/562db41a-9d87-4570-a84a-e1b5fb880578.csv\"\n",
    "tablename = \"staging_bbox\"\n",
    "columns = ['training', 'epoch', 'current_time_start', 'current_time_end', 'mean_squared_error', 'mean_center_dist', 'mean_size_error', 'mean_overlap', 'combined_score', 'acc_all_conditions', 'train_loss', 'val_loss', 'train_acc', 'val_acc', 'current_lr', 'IMG_SIZE', 'BATCH_SIZE']\n",
    "dc.copy_to_db(filepath,tablename,columns,format=\"CSV\",header=True,delimiter=\",\")\n",
    "\n"
   ],
   "id": "24c5e08117aedd69"
  },
  {
   "metadata": {
    "ExecuteTime": {
     "end_time": "2025-06-16T11:43:58.835249Z",
     "start_time": "2025-06-16T11:43:58.524267Z"
    }
   },
   "cell_type": "code",
   "outputs": [
    {
     "data": {
      "text/plain": [
       "[('game_id',), ('user_name',), ('user_input',), ('timestamp',)]"
      ]
     },
     "execution_count": 3,
     "metadata": {},
     "output_type": "execute_result"
    }
   ],
   "execution_count": 3,
   "source": "dc.check_columns('staging_gamedata')",
   "id": "b3ed05615450b8ef"
  },
  {
   "metadata": {},
   "cell_type": "markdown",
   "source": "### Update",
   "id": "1fde53d80909b99e"
  },
  {
   "metadata": {
    "ExecuteTime": {
     "end_time": "2025-06-16T11:23:42.360753Z",
     "start_time": "2025-06-16T11:23:41.861134Z"
    }
   },
   "cell_type": "code",
   "outputs": [
    {
     "data": {
      "text/plain": [
       "'UPDATE 50'"
      ]
     },
     "execution_count": 2,
     "metadata": {},
     "output_type": "execute_result"
    }
   ],
   "execution_count": 2,
   "source": [
    "table = [\"staging_gamedata\"]\n",
    "column = [\"game_id\"]\n",
    "value = [\"36B0WC\"]\n",
    "action = [\"processed\"]\n",
    "dc.update(table[0],column[0],value[0],action=action[0])"
   ],
   "id": "a17b9043ab4e4ddc"
  },
  {
   "metadata": {},
   "cell_type": "markdown",
   "source": "### Delete",
   "id": "41aa6546de45d64b"
  },
  {
   "metadata": {
    "ExecuteTime": {
     "end_time": "2025-06-18T07:35:47.631090Z",
     "start_time": "2025-06-18T07:35:47.342137Z"
    }
   },
   "cell_type": "code",
   "outputs": [
    {
     "name": "stdout",
     "output_type": "stream",
     "text": [
      "[(37, '36B0WC', 'Max', '2', '10.81', True)]\n"
     ]
    }
   ],
   "execution_count": 2,
   "source": [
    "table = \"staging_gamedata\"\n",
    "statement = f\"DELETE FROM {table} WHERE processed = True and id = 37 RETURNING *\"\n",
    "\n",
    "print(dc.insert_manual(statement))\n"
   ],
   "id": "605e0d44621b1cc"
  },
  {
   "metadata": {},
   "cell_type": "markdown",
   "source": [
    "## Google Cloud Storage (Bucket)\n",
    "--------------"
   ],
   "id": "9aee684dd0d3331"
  },
  {
   "metadata": {},
   "cell_type": "markdown",
   "source": "### Initialize cloud_connector",
   "id": "2d6fe04e1866d798"
  },
  {
   "metadata": {
    "ExecuteTime": {
     "end_time": "2025-06-13T08:17:25.576503Z",
     "start_time": "2025-06-13T08:17:24.226236Z"
    }
   },
   "cell_type": "code",
   "outputs": [],
   "execution_count": 1,
   "source": [
    "\n",
    "from cloud_data.connectors import cloud_connector as cc"
   ],
   "id": "87658a0cee831e33"
  },
  {
   "metadata": {},
   "cell_type": "markdown",
   "source": "### Upload",
   "id": "5ee5203d93706306"
  },
  {
   "metadata": {
    "ExecuteTime": {
     "end_time": "2025-06-13T08:18:27.037024Z",
     "start_time": "2025-06-13T08:18:21.251901Z"
    }
   },
   "cell_type": "code",
   "outputs": [
    {
     "name": "stdout",
     "output_type": "stream",
     "text": [
      "File airflow_data/testdb.csv uploaded as testdb.csv.\n"
     ]
    }
   ],
   "execution_count": 4,
   "source": [
    "# Full Filepath with filename\n",
    "cc.upload_to_bucket(\"airflow_data/testdb.csv\")"
   ],
   "id": "fc7dd5e8d629a497"
  },
  {
   "metadata": {},
   "cell_type": "markdown",
   "source": "### Download",
   "id": "f80db17a11fcf23f"
  },
  {
   "metadata": {},
   "cell_type": "code",
   "outputs": [],
   "execution_count": null,
   "source": [
    "# Filename in Bucket and Filelocation\n",
    "cc.download_from_bucket(\"test25.txt\",\"test25.txt\")"
   ],
   "id": "e09a065e26da61d9"
  },
  {
   "metadata": {},
   "cell_type": "markdown",
   "source": [
    "## Airflow\n",
    "---"
   ],
   "id": "c2c94928411fd056"
  },
  {
   "metadata": {
    "ExecuteTime": {
     "end_time": "2025-06-20T07:48:39.682698Z",
     "start_time": "2025-06-20T07:48:39.328267Z"
    }
   },
   "cell_type": "code",
   "outputs": [],
   "execution_count": 1,
   "source": [
    "import requests\n",
    "from requests.auth import HTTPBasicAuth\n",
    "\n",
    "username = \"airflow\"\n",
    "password = \"airflow\"\n",
    "airflow_endpoint = \"http://localhost:8080/api/v1/\""
   ],
   "id": "beda6dc209ff67d7"
  },
  {
   "metadata": {},
   "cell_type": "markdown",
   "source": "#### Check Version",
   "id": "702bf09d49878278"
  },
  {
   "metadata": {
    "ExecuteTime": {
     "end_time": "2025-06-20T07:48:43.420856Z",
     "start_time": "2025-06-20T07:48:43.391934Z"
    }
   },
   "cell_type": "code",
   "outputs": [
    {
     "name": "stdout",
     "output_type": "stream",
     "text": [
      "{'git_version': '.release:2.0.2+e494306fb01f3a026e7e2832ca94902e96b526fa', 'version': '2.0.2'}\n"
     ]
    }
   ],
   "execution_count": 2,
   "source": [
    "service = \"version\"\n",
    "ENDPOINT_URL=airflow_endpoint + service\n",
    "response = requests.get(ENDPOINT_URL)\n",
    "print(response.json())"
   ],
   "id": "1c3914ee04f45dcd"
  },
  {
   "metadata": {},
   "cell_type": "markdown",
   "source": "#### List DAGs",
   "id": "2b8754d5c3d3b79d"
  },
  {
   "metadata": {
    "ExecuteTime": {
     "end_time": "2025-06-20T07:48:46.069168Z",
     "start_time": "2025-06-20T07:48:45.954638Z"
    }
   },
   "cell_type": "code",
   "outputs": [
    {
     "name": "stdout",
     "output_type": "stream",
     "text": [
      "{'dags': [{'dag_id': 'CSV_Import_and_Processing_Pipeline', 'description': None, 'file_token': 'Ii9vcHQvYWlyZmxvdy9kYWdzL3BpcGVsaW5lX2Nzdl9tYWluLnB5Ig.UA84HMmf6BMY4vQI0T6zGHuAgJI', 'fileloc': '/opt/airflow/dags/pipeline_csv_main.py', 'is_paused': True, 'is_subdag': False, 'owners': ['airflow'], 'root_dag_id': None, 'schedule_interval': {'__type': 'CronExpression', 'value': '5 4 * * sun'}, 'tags': []}, {'dag_id': 'Delete_processed', 'description': None, 'file_token': 'Ii9vcHQvYWlyZmxvdy9kYWdzL3BpcGVsaW5lX2RlbGV0ZS5weSI.Xa3cJIM9Mz5HjBLcIlLbAqLMzHM', 'fileloc': '/opt/airflow/dags/pipeline_delete.py', 'is_paused': False, 'is_subdag': False, 'owners': ['airflow'], 'root_dag_id': None, 'schedule_interval': {'__type': 'CronExpression', 'value': '5 4 * * sun'}, 'tags': []}, {'dag_id': 'Process_Gaming_Staging_Data', 'description': None, 'file_token': 'Ii9vcHQvYWlyZmxvdy9kYWdzL3BpcGVsaW5lX3Byb2Nlc3Nfc3RhZ2luZy5weSI.jHBgzQ3Rh44iz-KGOgQKCnxtfOs', 'fileloc': '/opt/airflow/dags/pipeline_process_staging.py', 'is_paused': False, 'is_subdag': False, 'owners': ['airflow'], 'root_dag_id': None, 'schedule_interval': {'__type': 'CronExpression', 'value': '5 4 * * sun'}, 'tags': []}, {'dag_id': 'Save_file_data_to_database', 'description': None, 'file_token': 'Ii9vcHQvYWlyZmxvdy9kYWdzL3BpcGVsaW5lX2RhdGFiYXNlLnB5Ig.8fql4ctIur9OD6pxUrQsaCatOJ0', 'fileloc': '/opt/airflow/dags/pipeline_database.py', 'is_paused': True, 'is_subdag': False, 'owners': ['airflow'], 'root_dag_id': None, 'schedule_interval': {'__type': 'CronExpression', 'value': '*/5 * * * *'}, 'tags': []}, {'dag_id': 'Upload_csvs_to_staging', 'description': None, 'file_token': 'Ii9vcHQvYWlyZmxvdy9kYWdzL3BpcGVsaW5lX3VwbG9hZC5weSI.onM9KBto-HhRiAq-Pnu7ZrGc4AI', 'fileloc': '/opt/airflow/dags/pipeline_upload.py', 'is_paused': False, 'is_subdag': False, 'owners': ['airflow'], 'root_dag_id': None, 'schedule_interval': {'__type': 'CronExpression', 'value': '5 4 * * sun'}, 'tags': []}], 'total_entries': 5}\n",
      "CSV_Import_and_Processing_Pipeline\n"
     ]
    }
   ],
   "execution_count": 3,
   "source": [
    "service = \"dags\"\n",
    "ENDPOINT_URL=airflow_endpoint + service\n",
    "\n",
    "response = requests.get(ENDPOINT_URL,auth=HTTPBasicAuth(username, password))\n",
    "if response.status_code == 200:\n",
    "    print(response.json())\n",
    "    print(response.json()['dags'][0][\"dag_id\"])\n",
    "    dags_id = response.json()['dags'][0][\"dag_id\"]\n",
    "\n",
    "else:\n",
    "    print(response.status_code)\n",
    "    print(response.text)"
   ],
   "id": "ed24b1f1083fdfca"
  },
  {
   "metadata": {},
   "cell_type": "markdown",
   "source": "#### Information about DAG",
   "id": "559f8174b44388a1"
  },
  {
   "metadata": {
    "ExecuteTime": {
     "end_time": "2025-06-20T07:51:48.667464Z",
     "start_time": "2025-06-20T07:51:48.568416Z"
    }
   },
   "cell_type": "code",
   "source": [
    "service = f\"dags/{dags_id}\"\n",
    "ENDPOINT_URL=airflow_endpoint + service\n",
    "\n",
    "response = requests.get(ENDPOINT_URL,auth=HTTPBasicAuth(username, password))\n",
    "if response.status_code == 200:\n",
    "    print(response.json())\n",
    "else:\n",
    "    print(response.status_code)\n",
    "    print(response.text)"
   ],
   "id": "de7edf18d1d63946",
   "outputs": [
    {
     "name": "stdout",
     "output_type": "stream",
     "text": [
      "{'dag_id': 'CSV_Import_and_Processing_Pipeline', 'description': None, 'file_token': 'Ii9vcHQvYWlyZmxvdy9kYWdzL3BpcGVsaW5lX2Nzdl9tYWluLnB5Ig.UA84HMmf6BMY4vQI0T6zGHuAgJI', 'fileloc': '/opt/airflow/dags/pipeline_csv_main.py', 'is_paused': True, 'is_subdag': False, 'owners': ['airflow'], 'root_dag_id': None, 'schedule_interval': {'__type': 'CronExpression', 'value': '5 4 * * sun'}, 'tags': []}\n"
     ]
    }
   ],
   "execution_count": 5
  },
  {
   "metadata": {},
   "cell_type": "markdown",
   "source": "#### Start DAG",
   "id": "b5e07c4f7cb0c3cc"
  },
  {
   "metadata": {
    "ExecuteTime": {
     "end_time": "2025-06-20T08:02:36.825201Z",
     "start_time": "2025-06-20T08:02:36.681771Z"
    }
   },
   "cell_type": "code",
   "source": [
    "import json\n",
    "\n",
    "# Run \"List DAGs\" to obtain first dags_id\n",
    "\n",
    "service = f\"dags/{dags_id}/dagRuns\"\n",
    "ENDPOINT_URL=airflow_endpoint + service\n",
    "\n",
    "headers = {\n",
    "    \"Content-Type\": \"application/json\"\n",
    "}\n",
    "\n",
    "data = {\n",
    "    \"conf\": {}\n",
    "}\n",
    "\n",
    "response = requests.post(ENDPOINT_URL, headers=headers, data=json.dumps(data),auth=(username, password))\n",
    "\n",
    "# Ergebnis anzeigen\n",
    "if response.status_code == 200:\n",
    "    print(\"DAG started successfully:\", response.json())\n",
    "else:\n",
    "    print(\"Error when starting DAGs:\", response.status_code, response.text)"
   ],
   "id": "52652d5d2c471232",
   "outputs": [
    {
     "name": "stdout",
     "output_type": "stream",
     "text": [
      "DAG wurde erfolgreich gestartet: {'conf': {}, 'dag_id': 'CSV_Import_and_Processing_Pipeline', 'dag_run_id': 'manual__2025-06-20T08:02:36.811848+00:00', 'end_date': None, 'execution_date': '2025-06-20T08:02:36.811848+00:00', 'external_trigger': True, 'start_date': '2025-06-20T08:02:36.815637+00:00', 'state': 'running'}\n"
     ]
    }
   ],
   "execution_count": 7
  }
 ],
 "metadata": {
  "kernelspec": {
   "display_name": "Python 3",
   "language": "python",
   "name": "python3"
  },
  "language_info": {
   "codemirror_mode": {
    "name": "ipython",
    "version": 2
   },
   "file_extension": ".py",
   "mimetype": "text/x-python",
   "name": "python",
   "nbconvert_exporter": "python",
   "pygments_lexer": "ipython2",
   "version": "2.7.6"
  }
 },
 "nbformat": 4,
 "nbformat_minor": 5
}
