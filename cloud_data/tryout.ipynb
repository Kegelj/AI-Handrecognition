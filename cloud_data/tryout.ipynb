{
 "cells": [
  {
   "metadata": {},
   "cell_type": "markdown",
   "source": "## Basic tests",
   "id": "1f30b0a324a9a2a"
  },
  {
   "metadata": {},
   "cell_type": "code",
   "outputs": [],
   "execution_count": null,
   "source": [
    "\n",
    "\n",
    "list1= [\"Select asdasl\"]\n",
    "list2= \"Select dasahdka\"\n",
    "list3= [\"asdasda\",\"asdasda\"]\n",
    "\n",
    "\n",
    "print(type(list1))\n",
    "print(type(list2))\n",
    "print(type(list3))"
   ],
   "id": "5616f06e4b6c250d"
  },
  {
   "metadata": {},
   "cell_type": "code",
   "outputs": [],
   "execution_count": null,
   "source": "",
   "id": "16c8b17564e9a77b"
  },
  {
   "metadata": {},
   "cell_type": "code",
   "outputs": [],
   "execution_count": null,
   "source": [
    "result = dc.query(\"SELECT count(column_name) as column_count FROM information_schema.columns WHERE table_name = 'test_table' and column_name != 'id'\")[0][0]\n",
    "print(f\"--- {result}\")"
   ],
   "id": "798981d7a3cb4fa6"
  },
  {
   "metadata": {},
   "cell_type": "code",
   "source": [
    "result = dc.query(\"SELECT column_name as column_count FROM information_schema.columns WHERE table_name = 'test_table' and column_name != 'id'\")\n",
    "print(f\">\\n {result}\")\n",
    "\n",
    "list = tuple([column[0] for column in result])\n",
    "print(list)\n",
    "\n",
    "print(f\"INSERT INTO table {list}\")"
   ],
   "id": "495b9be1fe9760ed",
   "outputs": [],
   "execution_count": null
  },
  {
   "metadata": {},
   "cell_type": "code",
   "source": [
    "return_value = [('name',), ('bezeichnung',)]\n",
    "count = len(return_value)\n",
    "print(count)\n",
    "\n",
    "new_list = []\n",
    "for i in return_value:\n",
    "    new_list.append(i[0])\n",
    "\n",
    "print(new_list)\n",
    "\n",
    "new_list2 = [column[0] for column in return_value]\n",
    "print(new_list2)\n",
    "\n",
    "filtered = len(return_value)\n",
    "print(f\"({('%s,'*(filtered-1) + '%s')})\")\n"
   ],
   "id": "ce18388b8f361d15",
   "outputs": [],
   "execution_count": null
  },
  {
   "metadata": {},
   "cell_type": "code",
   "source": [
    "values1 = None\n",
    "values = ()\n",
    "\n",
    "def ubs():\n",
    "    if not values or len(values) < 1:\n",
    "        return (\"Please provide a 'value' when using this function\")\n",
    "\n",
    "ubs()"
   ],
   "id": "44e5729c1fcc6d64",
   "outputs": [],
   "execution_count": null
  },
  {
   "metadata": {},
   "cell_type": "code",
   "source": [
    "def generate_create_statement(table: str, values: tuple[tuple[str, str], ...]) -> str:\n",
    "    columns = []\n",
    "    for column_name, column_type in values:\n",
    "        columns.append(f\"{column_name} {column_type}\")\n",
    "\n",
    "    columns_sql = \",\\n\\t\".join(columns)\n",
    "    statement = f\"CREATE TABLE {table} (\\n\\t{columns_sql}\\n);\"\n",
    "    return statement\n",
    "\n",
    "\n",
    "table = \"ernst\"\n",
    "values = (\n",
    "    (\"id\", \"SERIAL PRIMARY KEY\"),\n",
    "    (\"name\", \"varchar(255)\"),\n",
    "    (\"type\", \"varchar(100)\")\n",
    ")\n",
    "\n",
    "print(generate_create_statement(table,values))"
   ],
   "id": "475ff797977891",
   "outputs": [],
   "execution_count": null
  },
  {
   "metadata": {},
   "cell_type": "markdown",
   "source": [
    "## Database tests\n",
    "------------------------"
   ],
   "id": "662c250b10bc09b"
  },
  {
   "metadata": {},
   "cell_type": "code",
   "source": "import cloud_data.connectors.database_connector as dc",
   "id": "81d83912119e9155",
   "outputs": [],
   "execution_count": null
  },
  {
   "metadata": {},
   "cell_type": "markdown",
   "source": "#### Query",
   "id": "92aaa8564cf523d"
  },
  {
   "metadata": {},
   "cell_type": "code",
   "source": [
    "statement = \"SELECT * FROM test\"\n",
    "print(dc.query(statement))"
   ],
   "id": "fdba65c705b5e0ff",
   "outputs": [],
   "execution_count": null
  },
  {
   "metadata": {},
   "cell_type": "markdown",
   "source": "#### Insert",
   "id": "60ef1549a57cd69b"
  },
  {
   "metadata": {},
   "cell_type": "code",
   "source": [
    "#Test mit .execute()\n",
    "\n",
    "table = \"test\"\n",
    "# Table test hat die Columns \"name\", \"number\" ist alphabetisch\n",
    "values = ('Ivan',22)\n",
    "\n",
    "print(dc.insert(table=table,values=values))"
   ],
   "id": "bf2f4fe8af8ba37d",
   "outputs": [],
   "execution_count": null
  },
  {
   "metadata": {},
   "cell_type": "code",
   "source": [
    "#Test mit .executemany()\n",
    "\n",
    "table = \"test\"\n",
    "# Table test hat die Columns \"name\", \"number\" ist alphabetisch\n",
    "slist = [('Ivan',30),('Thomas',34),('Stefan',40)]\n",
    "\n",
    "print(dc.insert(table=table,slist=slist))"
   ],
   "id": "ec17f51fea01cc3d",
   "outputs": [],
   "execution_count": null
  },
  {
   "metadata": {},
   "cell_type": "markdown",
   "source": [
    "## Google Cloud Storage (Bucket)\n",
    "--------------"
   ],
   "id": "9aee684dd0d3331"
  },
  {
   "metadata": {},
   "cell_type": "markdown",
   "source": "### Initialize cloud_connector",
   "id": "2d6fe04e1866d798"
  },
  {
   "metadata": {},
   "cell_type": "code",
   "source": [
    "\n",
    "from cloud_data.connectors import cloud_connector as cc"
   ],
   "id": "87658a0cee831e33",
   "outputs": [],
   "execution_count": null
  },
  {
   "metadata": {},
   "cell_type": "markdown",
   "source": "### Upload",
   "id": "5ee5203d93706306"
  },
  {
   "metadata": {},
   "cell_type": "code",
   "source": [
    "# Full Filepath with filename\n",
    "cc.upload_to_bucket(\"../airflow/test25.txt\")"
   ],
   "id": "fc7dd5e8d629a497",
   "outputs": [],
   "execution_count": null
  },
  {
   "metadata": {},
   "cell_type": "markdown",
   "source": "### Download",
   "id": "f80db17a11fcf23f"
  },
  {
   "metadata": {},
   "cell_type": "code",
   "source": [
    "# Filename in Bucket and Filelocation\n",
    "cc.download_from_bucket(\"test25.txt\",\"test25.txt\")"
   ],
   "id": "e09a065e26da61d9",
   "outputs": [],
   "execution_count": null
  },
  {
   "metadata": {},
   "cell_type": "markdown",
   "source": [
    "## Airflow\n",
    "---"
   ],
   "id": "c2c94928411fd056"
  },
  {
   "metadata": {
    "ExecuteTime": {
     "end_time": "2025-06-05T10:00:43.969571Z",
     "start_time": "2025-06-05T10:00:43.612474Z"
    }
   },
   "cell_type": "code",
   "source": [
    "import requests\n",
    "from requests.auth import HTTPBasicAuth\n",
    "\n",
    "username = \"airflow\"\n",
    "password = \"airflow\"\n",
    "airflow_endpoint = \"http://localhost:8080/api/v1/\""
   ],
   "id": "beda6dc209ff67d7",
   "outputs": [],
   "execution_count": 1
  },
  {
   "metadata": {},
   "cell_type": "markdown",
   "source": "#### Check Version",
   "id": "702bf09d49878278"
  },
  {
   "metadata": {
    "ExecuteTime": {
     "end_time": "2025-06-03T11:25:27.031794Z",
     "start_time": "2025-06-03T11:25:27.012299Z"
    }
   },
   "cell_type": "code",
   "source": [
    "service = \"version\"\n",
    "ENDPOINT_URL=airflow_endpoint + service\n",
    "response = requests.get(ENDPOINT_URL)\n",
    "print(response.json())"
   ],
   "id": "1c3914ee04f45dcd",
   "outputs": [
    {
     "name": "stdout",
     "output_type": "stream",
     "text": [
      "{'git_version': '.release:2.0.2+e494306fb01f3a026e7e2832ca94902e96b526fa', 'version': '2.0.2'}\n"
     ]
    }
   ],
   "execution_count": 21
  },
  {
   "metadata": {},
   "cell_type": "markdown",
   "source": "#### List DAGs",
   "id": "2b8754d5c3d3b79d"
  },
  {
   "metadata": {
    "ExecuteTime": {
     "end_time": "2025-06-05T10:49:21.406783Z",
     "start_time": "2025-06-05T10:49:21.299356Z"
    }
   },
   "cell_type": "code",
   "source": [
    "service = \"dags\"\n",
    "ENDPOINT_URL=airflow_endpoint + service\n",
    "\n",
    "response = requests.get(ENDPOINT_URL,auth=HTTPBasicAuth(username, password))\n",
    "if response.status_code == 200:\n",
    "    print(response.json())\n",
    "    print(response.json()['dags'][0][\"dag_id\"])\n",
    "    dags_id = response.json()['dags'][0][\"dag_id\"]\n",
    "\n",
    "else:\n",
    "    print(response.status_code)\n",
    "    print(response.text)"
   ],
   "id": "ed24b1f1083fdfca",
   "outputs": [
    {
     "name": "stdout",
     "output_type": "stream",
     "text": [
      "{'dags': [{'dag_id': 'Save_file_data_to_database', 'description': None, 'file_token': 'Ii9vcHQvYWlyZmxvdy9kYWdzL3BpcGVsaW5lX2RhdGFiYXNlLnB5Ig.2WY2_lM6bGCNVSBHY_HM8MQr27E', 'fileloc': '/opt/airflow/dags/pipeline_database.py', 'is_paused': True, 'is_subdag': False, 'owners': ['airflow'], 'root_dag_id': None, 'schedule_interval': {'__type': 'CronExpression', 'value': '*/5 * * * *'}, 'tags': []}], 'total_entries': 1}\n",
      "Save_file_data_to_database\n"
     ]
    }
   ],
   "execution_count": 5
  },
  {
   "metadata": {},
   "cell_type": "markdown",
   "source": "#### Information about DAG",
   "id": "559f8174b44388a1"
  },
  {
   "metadata": {
    "ExecuteTime": {
     "end_time": "2025-06-05T10:49:40.670820Z",
     "start_time": "2025-06-05T10:49:40.579619Z"
    }
   },
   "cell_type": "code",
   "source": [
    "service = f\"dags/{dags_id}\"\n",
    "ENDPOINT_URL=airflow_endpoint + service\n",
    "\n",
    "response = requests.get(ENDPOINT_URL,auth=HTTPBasicAuth(username, password))\n",
    "if response.status_code == 200:\n",
    "    print(response.json())\n",
    "else:\n",
    "    print(response.status_code)\n",
    "    print(response.text)"
   ],
   "id": "de7edf18d1d63946",
   "outputs": [
    {
     "name": "stdout",
     "output_type": "stream",
     "text": [
      "{'dag_id': 'Save_file_data_to_database', 'description': None, 'file_token': 'Ii9vcHQvYWlyZmxvdy9kYWdzL3BpcGVsaW5lX2RhdGFiYXNlLnB5Ig.2WY2_lM6bGCNVSBHY_HM8MQr27E', 'fileloc': '/opt/airflow/dags/pipeline_database.py', 'is_paused': True, 'is_subdag': False, 'owners': ['airflow'], 'root_dag_id': None, 'schedule_interval': {'__type': 'CronExpression', 'value': '*/5 * * * *'}, 'tags': []}\n"
     ]
    }
   ],
   "execution_count": 6
  }
 ],
 "metadata": {
  "kernelspec": {
   "display_name": "Python 3",
   "language": "python",
   "name": "python3"
  },
  "language_info": {
   "codemirror_mode": {
    "name": "ipython",
    "version": 2
   },
   "file_extension": ".py",
   "mimetype": "text/x-python",
   "name": "python",
   "nbconvert_exporter": "python",
   "pygments_lexer": "ipython2",
   "version": "2.7.6"
  }
 },
 "nbformat": 4,
 "nbformat_minor": 5
}
