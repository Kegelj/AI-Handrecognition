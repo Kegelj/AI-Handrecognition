{
 "cells": [
  {
   "metadata": {},
   "cell_type": "markdown",
   "source": "## Basic tests",
   "id": "1f30b0a324a9a2a"
  },
  {
   "metadata": {
    "ExecuteTime": {
     "end_time": "2025-06-10T13:25:31.472820Z",
     "start_time": "2025-06-10T13:25:31.466884Z"
    }
   },
   "cell_type": "code",
   "source": [
    "\n",
    "from ruamel.yaml import StringIO\n",
    "from six import StringIO\n",
    "\n",
    "list1= [\"Select asdasl\"]\n",
    "list2= \"Select dasahdka\"\n",
    "list3= [\"asdasda\",\"asdasda\"]\n",
    "\n",
    "\n",
    "print(type(list1))\n",
    "print(type(list2))\n",
    "print(type(list3))"
   ],
   "id": "5616f06e4b6c250d",
   "outputs": [
    {
     "name": "stdout",
     "output_type": "stream",
     "text": [
      "<class 'list'>\n",
      "<class 'str'>\n",
      "<class 'list'>\n"
     ]
    }
   ],
   "execution_count": 5
  },
  {
   "metadata": {
    "ExecuteTime": {
     "end_time": "2025-06-10T13:25:31.513011Z",
     "start_time": "2025-06-10T13:25:31.509637Z"
    }
   },
   "cell_type": "code",
   "source": "",
   "id": "16c8b17564e9a77b",
   "outputs": [],
   "execution_count": null
  },
  {
   "metadata": {
    "ExecuteTime": {
     "end_time": "2025-06-10T13:25:31.839528Z",
     "start_time": "2025-06-10T13:25:31.525982Z"
    }
   },
   "cell_type": "code",
   "source": [
    "result = dc.query(\"SELECT count(column_name) as column_count FROM information_schema.columns WHERE table_name = 'test_table' and column_name != 'id'\")[0][0]\n",
    "print(f\"--- {result}\")"
   ],
   "id": "798981d7a3cb4fa6",
   "outputs": [
    {
     "name": "stdout",
     "output_type": "stream",
     "text": [
      "--- 0\n"
     ]
    }
   ],
   "execution_count": 6
  },
  {
   "metadata": {
    "ExecuteTime": {
     "end_time": "2025-06-10T13:25:32.085112Z",
     "start_time": "2025-06-10T13:25:31.850603Z"
    }
   },
   "cell_type": "code",
   "source": [
    "result = dc.query(\"SELECT column_name as column_count FROM information_schema.columns WHERE table_name = 'test_table' and column_name != 'id'\")\n",
    "print(f\">\\n {result}\")\n",
    "\n",
    "list = tuple([column[0] for column in result])\n",
    "print(list)\n",
    "\n",
    "print(f\"INSERT INTO table {list}\")"
   ],
   "id": "495b9be1fe9760ed",
   "outputs": [
    {
     "name": "stdout",
     "output_type": "stream",
     "text": [
      ">\n",
      " []\n",
      "()\n",
      "INSERT INTO table ()\n"
     ]
    }
   ],
   "execution_count": 7
  },
  {
   "metadata": {
    "ExecuteTime": {
     "end_time": "2025-06-10T13:25:32.101562Z",
     "start_time": "2025-06-10T13:25:32.095505Z"
    }
   },
   "cell_type": "code",
   "source": [
    "return_value = [('name',), ('bezeichnung',)]\n",
    "count = len(return_value)\n",
    "print(count)\n",
    "\n",
    "new_list = []\n",
    "for i in return_value:\n",
    "    new_list.append(i[0])\n",
    "\n",
    "print(new_list)\n",
    "\n",
    "new_list2 = [column[0] for column in return_value]\n",
    "print(new_list2)\n",
    "\n",
    "filtered = len(return_value)\n",
    "print(f\"({('%s,'*(filtered-1) + '%s')})\")\n"
   ],
   "id": "ce18388b8f361d15",
   "outputs": [
    {
     "name": "stdout",
     "output_type": "stream",
     "text": [
      "2\n",
      "['name', 'bezeichnung']\n",
      "['name', 'bezeichnung']\n",
      "(%s,%s)\n"
     ]
    }
   ],
   "execution_count": 8
  },
  {
   "metadata": {
    "ExecuteTime": {
     "end_time": "2025-06-10T13:25:32.133901Z",
     "start_time": "2025-06-10T13:25:32.122726Z"
    }
   },
   "cell_type": "code",
   "source": [
    "values1 = None\n",
    "values = ()\n",
    "\n",
    "def ubs():\n",
    "    if not values or len(values) < 1:\n",
    "        return (\"Please provide a 'value' when using this function\")\n",
    "\n",
    "ubs()"
   ],
   "id": "44e5729c1fcc6d64",
   "outputs": [
    {
     "data": {
      "text/plain": [
       "\"Please provide a 'value' when using this function\""
      ]
     },
     "execution_count": 9,
     "metadata": {},
     "output_type": "execute_result"
    }
   ],
   "execution_count": 9
  },
  {
   "metadata": {
    "ExecuteTime": {
     "end_time": "2025-06-10T13:25:32.152553Z",
     "start_time": "2025-06-10T13:25:32.146404Z"
    }
   },
   "cell_type": "code",
   "source": [
    "def generate_create_statement(table: str, values: tuple[tuple[str, str], ...]) -> str:\n",
    "    columns = []\n",
    "    for column_name, column_type in values:\n",
    "        columns.append(f\"{column_name} {column_type}\")\n",
    "\n",
    "    columns_sql = \",\\n\\t\".join(columns)\n",
    "    statement = f\"CREATE TABLE {table} (\\n\\t{columns_sql}\\n);\"\n",
    "    return statement\n",
    "\n",
    "\n",
    "table = \"ernst\"\n",
    "values = (\n",
    "    (\"id\", \"SERIAL PRIMARY KEY\"),\n",
    "    (\"name\", \"varchar(255)\"),\n",
    "    (\"type\", \"varchar(100)\")\n",
    ")\n",
    "\n",
    "print(generate_create_statement(table,values))"
   ],
   "id": "475ff797977891",
   "outputs": [
    {
     "name": "stdout",
     "output_type": "stream",
     "text": [
      "CREATE TABLE ernst (\n",
      "\tid SERIAL PRIMARY KEY,\n",
      "\tname varchar(255),\n",
      "\ttype varchar(100)\n",
      ");\n"
     ]
    }
   ],
   "execution_count": 10
  },
  {
   "metadata": {},
   "cell_type": "markdown",
   "source": [
    "## Database tests\n",
    "------------------------"
   ],
   "id": "662c250b10bc09b"
  },
  {
   "metadata": {
    "ExecuteTime": {
     "end_time": "2025-06-13T12:04:34.363899Z",
     "start_time": "2025-06-13T12:04:34.331530Z"
    }
   },
   "cell_type": "code",
   "source": "import cloud_data.connectors.database_connector as dc",
   "id": "81d83912119e9155",
   "outputs": [],
   "execution_count": 1
  },
  {
   "metadata": {},
   "cell_type": "markdown",
   "source": "#### Query",
   "id": "92aaa8564cf523d"
  },
  {
   "metadata": {
    "ExecuteTime": {
     "end_time": "2025-06-13T12:04:36.772882Z",
     "start_time": "2025-06-13T12:04:36.507422Z"
    }
   },
   "cell_type": "code",
   "source": [
    "statement = \"SELECT * FROM test\"\n",
    "print(dc.query(statement))"
   ],
   "id": "fdba65c705b5e0ff",
   "outputs": [
    {
     "name": "stdout",
     "output_type": "stream",
     "text": [
      "[(4, 'Peter', 17), (6, 'Albert', 17), (7, 'Ivan', 22), (8, 'Ivan', 30), (9, 'Thomas', 34), (10, 'Stefan', 40), (11, 'Ivan', 22), (12, 'Ivan', 30), (13, 'Thomas', 34), (14, 'Stefan', 40), (15, 'Ivan', 23), (16, 'Ivan', 30), (17, 'Thomas', 34), (18, 'Stefan', 40), (19, 'Ivan', 30), (20, 'Thomas', 34), (21, 'Stefan', 40), (22, 'Ivan', 30), (23, 'Thomas', 34), (24, 'Stefan', 40), (25, 'Ivan', 30), (26, 'Thomas', 34), (27, 'Stefan', 40), (28, 'Ivan', 30), (29, 'Thomas', 34), (30, 'Stefan', 40), (31, 'Ivan', 30), (32, 'Thomas', 34), (33, 'Stefan', 40), (34, 'Ivan', 30), (35, 'Thomas', 34), (36, 'Stefan', 40), (37, 'Ivan', 30), (38, 'Thomas', 34), (39, 'Stefan', 40), (40, 'Ivan', 30), (41, 'Thomas', 34), (42, 'Stefan', 40), (43, 'asd', 12), (44, 'dfds', 345), (45, 'rzhtzbrr', 1231), (49, 'asd', 12), (50, 'dfds', 345), (51, 'rzhtzbrr', 1231), (52, 'asd', 12), (53, 'dfds', 345), (54, 'rzhtzbrr', 1231), (55, 'asd', 12), (56, 'dfds', 345), (57, 'rzhtzbrr', 1231), (58, 'asd', 12), (59, 'dfds', 345), (60, 'rzhtzbrr', 1231)]\n"
     ]
    }
   ],
   "execution_count": 2
  },
  {
   "metadata": {},
   "cell_type": "markdown",
   "source": "#### Check Columns",
   "id": "d128c8c119e9ebae"
  },
  {
   "metadata": {
    "ExecuteTime": {
     "end_time": "2025-06-13T12:04:39.382389Z",
     "start_time": "2025-06-13T12:04:39.124912Z"
    }
   },
   "cell_type": "code",
   "source": [
    "tables = [\"test\",\"staging\"]\n",
    "dc.check_columns(tables[1])"
   ],
   "id": "4edeab23ed208f4",
   "outputs": [
    {
     "data": {
      "text/plain": [
       "[('col1',),\n",
       " ('col2',),\n",
       " ('col3',),\n",
       " ('col4',),\n",
       " ('col5',),\n",
       " ('col6',),\n",
       " ('col7',),\n",
       " ('col8',),\n",
       " ('col9',),\n",
       " ('processed',)]"
      ]
     },
     "execution_count": 3,
     "metadata": {},
     "output_type": "execute_result"
    }
   ],
   "execution_count": 3
  },
  {
   "metadata": {},
   "cell_type": "markdown",
   "source": "#### _placeholder function",
   "id": "f6defb2f3a857b9b"
  },
  {
   "metadata": {
    "ExecuteTime": {
     "end_time": "2025-06-12T09:52:04.871623Z",
     "start_time": "2025-06-12T09:52:04.816673Z"
    }
   },
   "cell_type": "code",
   "source": [
    "data1 = [('col1',), ('col2',), ('col3',), ('col4',), ('processed',)] # works db\n",
    "data2 = [('name',), ('number',)] # works db\n",
    "data3 = [\"col001\",\"col002\",\"col003\"] # works data\n",
    "data4 = [('Ivan',30),('Thomas',34),('Stefan',40)]\n",
    "data5 = [('Ivan',30)]\n",
    "\n",
    "def _is_single_record(values):\n",
    "    \"\"\"\n",
    "    Helper function that can be used to check if a list or tuple has multiple list/tuples inside.\n",
    "    Will be used by the insert function to check if execute or executemany will be used.\n",
    "    :param values: [tuple] / [list[tuple],[tuple]]\n",
    "    :return: True or False\n",
    "    \"\"\"\n",
    "    if not values:\n",
    "        return True\n",
    "\n",
    "    # Checks if values has a single element\n",
    "    if isinstance(values, (list, tuple)):\n",
    "        if len(values) == 0:\n",
    "            return True\n",
    "\n",
    "        first_element = values[0]\n",
    "\n",
    "        if isinstance(first_element, (list, tuple)):\n",
    "            return False\n",
    "        else:\n",
    "            return True\n",
    "\n",
    "    return True\n",
    "\n",
    "def _placeholder(value_list, input=\"db\"):\n",
    "    \"\"\"\n",
    "    Used as a helper function to get a nice string format of the provided list to be used in DB Statements.\n",
    "\n",
    "    :param value_list: [('col1',),('col2')],[\"columnname1\",\"columnname2\"]\n",
    "    :param input: db (default),data (for lists)\n",
    "    :return: int 3, str (col1,col2), str (%s,%s)\n",
    "    \"\"\"\n",
    "    is_single = _is_single_record(value_list)\n",
    "    print(f\"valuelist: {value_list}\")\n",
    "    print(f\"valuelist[0]: {value_list[0]}\")\n",
    "    print(f\"is_single: {is_single}\")\n",
    "    if input == \"db\":\n",
    "        columns_tuple = tuple([column[0] for column in value_list])\n",
    "    if input == \"data\":\n",
    "        if is_single:\n",
    "            columns_tuple = [str(value) for value in value_list]\n",
    "            print(f\"is_single\"+ columns_tuple)\n",
    "        else:\n",
    "            columns_tuple = value_list[0]\n",
    "            print(\"multiple items - \" + columns_tuple[0])\n",
    "\n",
    "    columns_count = len(columns_tuple)\n",
    "    columns_string = \"(\" + \", \".join(columns_tuple) + \")\"  # Values in the correct form for Statement (value1,value2)\n",
    "    value_placeholder = f\"({('%s,' * (columns_count - 1) + '%s')})\"  # Creates (%s,%s,...) with the number of columns\n",
    "\n",
    "    return columns_count, columns_string,value_placeholder, is_single\n",
    "\n",
    "a,b,c,d = _placeholder(data5, input=\"data\")\n",
    "\n",
    "#a,b,c = dc._placeholder(data2, input=\"db\")\n",
    "\n",
    "print(a)\n",
    "print(b)\n",
    "print(c)"
   ],
   "id": "b59dcc01f2ff3891",
   "outputs": [
    {
     "name": "stdout",
     "output_type": "stream",
     "text": [
      "valuelist: [('Ivan', 30)]\n",
      "valuelist[0]: ('Ivan', 30)\n",
      "is_single: False\n",
      "multiple items - Ivan\n"
     ]
    },
    {
     "ename": "TypeError",
     "evalue": "sequence item 1: expected str instance, int found",
     "output_type": "error",
     "traceback": [
      "\u001B[1;31m---------------------------------------------------------------------------\u001B[0m",
      "\u001B[1;31mTypeError\u001B[0m                                 Traceback (most recent call last)",
      "Cell \u001B[1;32mIn[31], line 59\u001B[0m\n\u001B[0;32m     55\u001B[0m     value_placeholder \u001B[38;5;241m=\u001B[39m \u001B[38;5;124mf\u001B[39m\u001B[38;5;124m\"\u001B[39m\u001B[38;5;124m(\u001B[39m\u001B[38;5;132;01m{\u001B[39;00m(\u001B[38;5;124m'\u001B[39m\u001B[38;5;132;01m%s\u001B[39;00m\u001B[38;5;124m,\u001B[39m\u001B[38;5;124m'\u001B[39m\u001B[38;5;250m \u001B[39m\u001B[38;5;241m*\u001B[39m\u001B[38;5;250m \u001B[39m(columns_count\u001B[38;5;250m \u001B[39m\u001B[38;5;241m-\u001B[39m\u001B[38;5;250m \u001B[39m\u001B[38;5;241m1\u001B[39m)\u001B[38;5;250m \u001B[39m\u001B[38;5;241m+\u001B[39m\u001B[38;5;250m \u001B[39m\u001B[38;5;124m'\u001B[39m\u001B[38;5;132;01m%s\u001B[39;00m\u001B[38;5;124m'\u001B[39m)\u001B[38;5;132;01m}\u001B[39;00m\u001B[38;5;124m)\u001B[39m\u001B[38;5;124m\"\u001B[39m  \u001B[38;5;66;03m# Creates (%s,%s,...) with the number of columns\u001B[39;00m\n\u001B[0;32m     57\u001B[0m     \u001B[38;5;28;01mreturn\u001B[39;00m columns_count, columns_string,value_placeholder, is_single\n\u001B[1;32m---> 59\u001B[0m a,b,c,d \u001B[38;5;241m=\u001B[39m _placeholder(data5, \u001B[38;5;28minput\u001B[39m\u001B[38;5;241m=\u001B[39m\u001B[38;5;124m\"\u001B[39m\u001B[38;5;124mdata\u001B[39m\u001B[38;5;124m\"\u001B[39m)\n\u001B[0;32m     61\u001B[0m \u001B[38;5;66;03m#a,b,c = dc._placeholder(data2, input=\"db\")\u001B[39;00m\n\u001B[0;32m     63\u001B[0m \u001B[38;5;28mprint\u001B[39m(a)\n",
      "Cell \u001B[1;32mIn[31], line 54\u001B[0m, in \u001B[0;36m_placeholder\u001B[1;34m(value_list, input)\u001B[0m\n\u001B[0;32m     51\u001B[0m         \u001B[38;5;28mprint\u001B[39m(\u001B[38;5;124m\"\u001B[39m\u001B[38;5;124mmultiple items - \u001B[39m\u001B[38;5;124m\"\u001B[39m \u001B[38;5;241m+\u001B[39m columns_tuple[\u001B[38;5;241m0\u001B[39m])\n\u001B[0;32m     53\u001B[0m columns_count \u001B[38;5;241m=\u001B[39m \u001B[38;5;28mlen\u001B[39m(columns_tuple)\n\u001B[1;32m---> 54\u001B[0m columns_string \u001B[38;5;241m=\u001B[39m \u001B[38;5;124m\"\u001B[39m\u001B[38;5;124m(\u001B[39m\u001B[38;5;124m\"\u001B[39m \u001B[38;5;241m+\u001B[39m \u001B[38;5;124m\"\u001B[39m\u001B[38;5;124m, \u001B[39m\u001B[38;5;124m\"\u001B[39m\u001B[38;5;241m.\u001B[39mjoin(columns_tuple) \u001B[38;5;241m+\u001B[39m \u001B[38;5;124m\"\u001B[39m\u001B[38;5;124m)\u001B[39m\u001B[38;5;124m\"\u001B[39m  \u001B[38;5;66;03m# Values in the correct form for Statement (value1,value2)\u001B[39;00m\n\u001B[0;32m     55\u001B[0m value_placeholder \u001B[38;5;241m=\u001B[39m \u001B[38;5;124mf\u001B[39m\u001B[38;5;124m\"\u001B[39m\u001B[38;5;124m(\u001B[39m\u001B[38;5;132;01m{\u001B[39;00m(\u001B[38;5;124m'\u001B[39m\u001B[38;5;132;01m%s\u001B[39;00m\u001B[38;5;124m,\u001B[39m\u001B[38;5;124m'\u001B[39m\u001B[38;5;250m \u001B[39m\u001B[38;5;241m*\u001B[39m\u001B[38;5;250m \u001B[39m(columns_count\u001B[38;5;250m \u001B[39m\u001B[38;5;241m-\u001B[39m\u001B[38;5;250m \u001B[39m\u001B[38;5;241m1\u001B[39m)\u001B[38;5;250m \u001B[39m\u001B[38;5;241m+\u001B[39m\u001B[38;5;250m \u001B[39m\u001B[38;5;124m'\u001B[39m\u001B[38;5;132;01m%s\u001B[39;00m\u001B[38;5;124m'\u001B[39m)\u001B[38;5;132;01m}\u001B[39;00m\u001B[38;5;124m)\u001B[39m\u001B[38;5;124m\"\u001B[39m  \u001B[38;5;66;03m# Creates (%s,%s,...) with the number of columns\u001B[39;00m\n\u001B[0;32m     57\u001B[0m \u001B[38;5;28;01mreturn\u001B[39;00m columns_count, columns_string,value_placeholder, is_single\n",
      "\u001B[1;31mTypeError\u001B[0m: sequence item 1: expected str instance, int found"
     ]
    }
   ],
   "execution_count": 31
  },
  {
   "metadata": {
    "ExecuteTime": {
     "end_time": "2025-06-12T09:49:00.014324Z",
     "start_time": "2025-06-12T09:49:00.007975Z"
    }
   },
   "cell_type": "code",
   "source": [
    "data4 = [('Ivan',30),('Thomas',34),('Stefan',40)]\n",
    "data5 = [('Ivan',30)]\n",
    "\n",
    "print(data5[0])"
   ],
   "id": "dd2130ba8bc10ee0",
   "outputs": [
    {
     "name": "stdout",
     "output_type": "stream",
     "text": [
      "('Ivan', 30)\n"
     ]
    }
   ],
   "execution_count": 28
  },
  {
   "metadata": {},
   "cell_type": "markdown",
   "source": "#### Insert",
   "id": "60ef1549a57cd69b"
  },
  {
   "metadata": {},
   "cell_type": "markdown",
   "source": "##### .execute()",
   "id": "68b09428d7499059"
  },
  {
   "metadata": {
    "ExecuteTime": {
     "end_time": "2025-06-13T12:04:47.986751Z",
     "start_time": "2025-06-13T12:04:47.323100Z"
    }
   },
   "cell_type": "code",
   "source": [
    "#Test mit .execute()\n",
    "\n",
    "table = [\"test\",\"staging\"]\n",
    "values = [('Ivan',23), (\"working\",\"testscore\",18,27,\"Herbert\",\"\",\"\",\"\",\"\",True),(\"faulty\",\"testscore\",17,25,\"Herbert\",\"\",\"\",\"\",True)]\n",
    "values_listoftuple = [(\"working\",\"testscore3\",18,27,\"Herbert\",\"\",\"\",\"\",\"\",True),(\"working\",\"testscore2\",18,27,\"Herbert\",\"\",\"\",\"\",\"\",True)]\n",
    "# Table test hat die Columns \"name\", \"number\" ist alphabetisch\n",
    "# Table staging id, col1-col15,processed\n",
    "\n",
    "\n",
    "print(dc.insert(table=table[1],amount=\"single\",values=values[1]))"
   ],
   "id": "bf2f4fe8af8ba37d",
   "outputs": [
    {
     "name": "stdout",
     "output_type": "stream",
     "text": [
      "INSERT INTO staging (col1, col2, col3, col4, col5, col6, col7, col8, col9, processed) VALUES (%s,%s,%s,%s,%s,%s,%s,%s,%s,%s)\n",
      "INSERT 0 1\n"
     ]
    }
   ],
   "execution_count": 4
  },
  {
   "metadata": {},
   "cell_type": "markdown",
   "source": "##### .executemany()",
   "id": "e6bf6acc7629f2bb"
  },
  {
   "metadata": {
    "ExecuteTime": {
     "end_time": "2025-06-13T12:05:46.710046Z",
     "start_time": "2025-06-13T12:05:46.117253Z"
    }
   },
   "cell_type": "code",
   "source": [
    "#Test mit .executemany()\n",
    "\n",
    "table = \"test\"\n",
    "# Table test hat die Columns \"name\", \"number\" ist alphabetisch\n",
    "manyvalues = [('Ivan',30),('Thomas',34),('Stefan',40)]\n",
    "print(dc.insert(table=table,amount=\"many\",values=manyvalues))"
   ],
   "id": "ec17f51fea01cc3d",
   "outputs": [
    {
     "name": "stdout",
     "output_type": "stream",
     "text": [
      "INSERT INTO test (name, number) VALUES (%s,%s)\n",
      "INSERT 0 1\n"
     ]
    }
   ],
   "execution_count": 5
  },
  {
   "metadata": {},
   "cell_type": "markdown",
   "source": "#### COPY",
   "id": "eb2134e53978e9e0"
  },
  {
   "metadata": {
    "ExecuteTime": {
     "end_time": "2025-06-13T11:40:28.437358Z",
     "start_time": "2025-06-13T11:40:28.052540Z"
    }
   },
   "cell_type": "code",
   "source": [
    "filepath = \"airflow_data/testdb.csv\"\n",
    "tablename = \"test\"\n",
    "columns = (\"name\",\"number\")\n",
    "dc.copy_to_db(filepath,tablename,columns,format=\"CSV\",header=True,delimiter=\";\")"
   ],
   "id": "5731e0aa43c8ed13",
   "outputs": [
    {
     "name": "stdout",
     "output_type": "stream",
     "text": [
      "File (airflow_data/testdb.csv) copied succesfully to table test.\n"
     ]
    }
   ],
   "execution_count": 3
  },
  {
   "metadata": {
    "ExecuteTime": {
     "end_time": "2025-06-13T12:03:06.236102Z",
     "start_time": "2025-06-13T12:03:05.936142Z"
    }
   },
   "cell_type": "code",
   "source": [
    "columns,column_string,column_tuple, column_placeholder = dc._placeholder(dc.check_columns('staging_bbox'))\n",
    "print(columns)\n",
    "print(column_string)\n",
    "print(column_tuple)\n",
    "print(column_placeholder)"
   ],
   "id": "24c5e08117aedd69",
   "outputs": [
    {
     "name": "stdout",
     "output_type": "stream",
     "text": [
      "18\n",
      "(training, epoch, current_time_start, current_time_end, mean_squared_error, mean_center_dist, mean_size_error, mean_overlap, combined_score, acc_all_conditions, train_loss, val_loss, train_acc, val_acc, current_lr, IMG_SIZE, BATCH_SIZE, processed)\n",
      "('training', 'epoch', 'current_time_start', 'current_time_end', 'mean_squared_error', 'mean_center_dist', 'mean_size_error', 'mean_overlap', 'combined_score', 'acc_all_conditions', 'train_loss', 'val_loss', 'train_acc', 'val_acc', 'current_lr', 'IMG_SIZE', 'BATCH_SIZE', 'processed')\n",
      "(%s,%s,%s,%s,%s,%s,%s,%s,%s,%s,%s,%s,%s,%s,%s,%s,%s,%s)\n"
     ]
    }
   ],
   "execution_count": 2
  },
  {
   "metadata": {},
   "cell_type": "markdown",
   "source": [
    "## Google Cloud Storage (Bucket)\n",
    "--------------"
   ],
   "id": "9aee684dd0d3331"
  },
  {
   "metadata": {},
   "cell_type": "markdown",
   "source": "### Initialize cloud_connector",
   "id": "2d6fe04e1866d798"
  },
  {
   "metadata": {
    "ExecuteTime": {
     "end_time": "2025-06-13T08:17:25.576503Z",
     "start_time": "2025-06-13T08:17:24.226236Z"
    }
   },
   "cell_type": "code",
   "source": [
    "\n",
    "from cloud_data.connectors import cloud_connector as cc"
   ],
   "id": "87658a0cee831e33",
   "outputs": [],
   "execution_count": 1
  },
  {
   "metadata": {},
   "cell_type": "markdown",
   "source": "### Upload",
   "id": "5ee5203d93706306"
  },
  {
   "metadata": {
    "ExecuteTime": {
     "end_time": "2025-06-13T08:18:27.037024Z",
     "start_time": "2025-06-13T08:18:21.251901Z"
    }
   },
   "cell_type": "code",
   "source": [
    "# Full Filepath with filename\n",
    "cc.upload_to_bucket(\"airflow_data/testdb.csv\")"
   ],
   "id": "fc7dd5e8d629a497",
   "outputs": [
    {
     "name": "stdout",
     "output_type": "stream",
     "text": [
      "File airflow_data/testdb.csv uploaded as testdb.csv.\n"
     ]
    }
   ],
   "execution_count": 4
  },
  {
   "metadata": {},
   "cell_type": "markdown",
   "source": "### Download",
   "id": "f80db17a11fcf23f"
  },
  {
   "metadata": {},
   "cell_type": "code",
   "outputs": [],
   "execution_count": null,
   "source": [
    "# Filename in Bucket and Filelocation\n",
    "cc.download_from_bucket(\"test25.txt\",\"test25.txt\")"
   ],
   "id": "e09a065e26da61d9"
  },
  {
   "metadata": {},
   "cell_type": "markdown",
   "source": [
    "## Airflow\n",
    "---"
   ],
   "id": "c2c94928411fd056"
  },
  {
   "metadata": {
    "ExecuteTime": {
     "end_time": "2025-06-10T13:25:33.218284800Z",
     "start_time": "2025-06-05T10:00:43.612474Z"
    }
   },
   "cell_type": "code",
   "outputs": [],
   "execution_count": 1,
   "source": [
    "import requests\n",
    "from requests.auth import HTTPBasicAuth\n",
    "\n",
    "username = \"airflow\"\n",
    "password = \"airflow\"\n",
    "airflow_endpoint = \"http://localhost:8080/api/v1/\""
   ],
   "id": "beda6dc209ff67d7"
  },
  {
   "metadata": {},
   "cell_type": "markdown",
   "source": "#### Check Version",
   "id": "702bf09d49878278"
  },
  {
   "metadata": {
    "ExecuteTime": {
     "end_time": "2025-06-10T13:25:33.220354900Z",
     "start_time": "2025-06-03T11:25:27.012299Z"
    }
   },
   "cell_type": "code",
   "outputs": [
    {
     "name": "stdout",
     "output_type": "stream",
     "text": [
      "{'git_version': '.release:2.0.2+e494306fb01f3a026e7e2832ca94902e96b526fa', 'version': '2.0.2'}\n"
     ]
    }
   ],
   "execution_count": 21,
   "source": [
    "service = \"version\"\n",
    "ENDPOINT_URL=airflow_endpoint + service\n",
    "response = requests.get(ENDPOINT_URL)\n",
    "print(response.json())"
   ],
   "id": "1c3914ee04f45dcd"
  },
  {
   "metadata": {},
   "cell_type": "markdown",
   "source": "#### List DAGs",
   "id": "2b8754d5c3d3b79d"
  },
  {
   "metadata": {
    "ExecuteTime": {
     "end_time": "2025-06-10T13:25:33.221969100Z",
     "start_time": "2025-06-05T10:49:21.299356Z"
    }
   },
   "cell_type": "code",
   "outputs": [
    {
     "name": "stdout",
     "output_type": "stream",
     "text": [
      "{'dags': [{'dag_id': 'Save_file_data_to_database', 'description': None, 'file_token': 'Ii9vcHQvYWlyZmxvdy9kYWdzL3BpcGVsaW5lX2RhdGFiYXNlLnB5Ig.2WY2_lM6bGCNVSBHY_HM8MQr27E', 'fileloc': '/opt/airflow/dags/pipeline_database.py', 'is_paused': True, 'is_subdag': False, 'owners': ['airflow'], 'root_dag_id': None, 'schedule_interval': {'__type': 'CronExpression', 'value': '*/5 * * * *'}, 'tags': []}], 'total_entries': 1}\n",
      "Save_file_data_to_database\n"
     ]
    }
   ],
   "execution_count": 5,
   "source": [
    "service = \"dags\"\n",
    "ENDPOINT_URL=airflow_endpoint + service\n",
    "\n",
    "response = requests.get(ENDPOINT_URL,auth=HTTPBasicAuth(username, password))\n",
    "if response.status_code == 200:\n",
    "    print(response.json())\n",
    "    print(response.json()['dags'][0][\"dag_id\"])\n",
    "    dags_id = response.json()['dags'][0][\"dag_id\"]\n",
    "\n",
    "else:\n",
    "    print(response.status_code)\n",
    "    print(response.text)"
   ],
   "id": "ed24b1f1083fdfca"
  },
  {
   "metadata": {},
   "cell_type": "markdown",
   "source": "#### Information about DAG",
   "id": "559f8174b44388a1"
  },
  {
   "metadata": {
    "ExecuteTime": {
     "end_time": "2025-06-10T13:25:33.223390900Z",
     "start_time": "2025-06-05T10:49:40.579619Z"
    }
   },
   "cell_type": "code",
   "outputs": [
    {
     "name": "stdout",
     "output_type": "stream",
     "text": [
      "{'dag_id': 'Save_file_data_to_database', 'description': None, 'file_token': 'Ii9vcHQvYWlyZmxvdy9kYWdzL3BpcGVsaW5lX2RhdGFiYXNlLnB5Ig.2WY2_lM6bGCNVSBHY_HM8MQr27E', 'fileloc': '/opt/airflow/dags/pipeline_database.py', 'is_paused': True, 'is_subdag': False, 'owners': ['airflow'], 'root_dag_id': None, 'schedule_interval': {'__type': 'CronExpression', 'value': '*/5 * * * *'}, 'tags': []}\n"
     ]
    }
   ],
   "execution_count": 6,
   "source": [
    "service = f\"dags/{dags_id}\"\n",
    "ENDPOINT_URL=airflow_endpoint + service\n",
    "\n",
    "response = requests.get(ENDPOINT_URL,auth=HTTPBasicAuth(username, password))\n",
    "if response.status_code == 200:\n",
    "    print(response.json())\n",
    "else:\n",
    "    print(response.status_code)\n",
    "    print(response.text)"
   ],
   "id": "de7edf18d1d63946"
  }
 ],
 "metadata": {
  "kernelspec": {
   "display_name": "Python 3",
   "language": "python",
   "name": "python3"
  },
  "language_info": {
   "codemirror_mode": {
    "name": "ipython",
    "version": 2
   },
   "file_extension": ".py",
   "mimetype": "text/x-python",
   "name": "python",
   "nbconvert_exporter": "python",
   "pygments_lexer": "ipython2",
   "version": "2.7.6"
  }
 },
 "nbformat": 4,
 "nbformat_minor": 5
}
